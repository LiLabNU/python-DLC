{
 "cells": [
  {
   "cell_type": "code",
   "execution_count": null,
   "id": "339c96b6",
   "metadata": {},
   "outputs": [
    {
     "name": "stdout",
     "output_type": "stream",
     "text": [
      "Loading DLC 3.0.0rc6...\n",
      "Starting analysis in: R:\\PBS\\LiPatel_Labs\\Personal_Folders\\Talia\\Behavior\\MedPC_Data\\Pavlov_pilot3\\Day1\n",
      "Using snapshot-300000 for model \\\\fsmresfiles.fsm.northwestern.edu\\fsmresfiles\\PBS\\LiPatel_Labs\\General\\DLC\\Pavlovian-Talia-2024-10-11\\dlc-models\\iteration-1\\PavlovianOct11-trainset95shuffle1\n"
     ]
    },
    {
     "name": "stderr",
     "output_type": "stream",
     "text": [
      "C:\\Users\\searle4490user2\\AppData\\Local\\anaconda3\\envs\\dlc\\lib\\site-packages\\tensorflow\\python\\keras\\engine\\base_layer_v1.py:1694: UserWarning: `layer.apply` is deprecated and will be removed in a future version. Please use `layer.__call__` method instead.\n",
      "  warnings.warn('`layer.apply` is deprecated and '\n"
     ]
    },
    {
     "name": "stdout",
     "output_type": "stream",
     "text": [
      "Analyzing all the videos in the directory...\n",
      "Starting to analyze %  R:\\PBS\\LiPatel_Labs\\Personal_Folders\\Talia\\Behavior\\MedPC_Data\\Pavlov_pilot3\\Day1\\Box5-e3v832f-20250217T112928-130333.mp4\n",
      "The videos are analyzed. Now your research can truly start! \n",
      " You can create labeled videos with 'create_labeled_video'\n",
      "If the tracking is not satisfactory for some videos, consider expanding the training set. You can use the function 'extract_outlier_frames' to extract a few representative outlier frames.\n",
      "Analyzing all the videos in the directory...\n",
      "Filtering with median model R:\\PBS\\LiPatel_Labs\\Personal_Folders\\Talia\\Behavior\\MedPC_Data\\Pavlov_pilot3\\Day1\\Box5-e3v832f-20250217T112928-130333.mp4\n",
      "Data from Box5-e3v832f-20250217T112928-130333 were already filtered. Skipping...\n",
      "Analyzing all the videos in the directory...\n",
      "Starting to process video: R:\\PBS\\LiPatel_Labs\\Personal_Folders\\Talia\\Behavior\\MedPC_Data\\Pavlov_pilot3\\Day1\\Box5-e3v832f-20250217T112928-130333.mp4\n",
      "Loading R:\\PBS\\LiPatel_Labs\\Personal_Folders\\Talia\\Behavior\\MedPC_Data\\Pavlov_pilot3\\Day1\\Box5-e3v832f-20250217T112928-130333.mp4 and data.\n",
      "Labeled video already created. Skipping...\n",
      "Using snapshot-300000 for model \\\\fsmresfiles.fsm.northwestern.edu\\fsmresfiles\\PBS\\LiPatel_Labs\\General\\DLC\\Pavlovian-Talia-2024-10-11\\dlc-models\\iteration-1\\PavlovianOct11-trainset95shuffle1\n"
     ]
    },
    {
     "name": "stderr",
     "output_type": "stream",
     "text": [
      "C:\\Users\\searle4490user2\\AppData\\Local\\anaconda3\\envs\\dlc\\lib\\site-packages\\tensorflow\\python\\keras\\engine\\base_layer_v1.py:1694: UserWarning: `layer.apply` is deprecated and will be removed in a future version. Please use `layer.__call__` method instead.\n",
      "  warnings.warn('`layer.apply` is deprecated and '\n"
     ]
    },
    {
     "name": "stdout",
     "output_type": "stream",
     "text": [
      "Analyzing all the videos in the directory...\n",
      "No video(s) were found. Please check your paths and/or 'video_type'.\n",
      "Analyzing all the videos in the directory...\n",
      "No video(s) were found. Please check your paths and/or 'videotype'.\n",
      "Analyzing all the videos in the directory...\n",
      "Using snapshot-300000 for model \\\\fsmresfiles.fsm.northwestern.edu\\fsmresfiles\\PBS\\LiPatel_Labs\\General\\DLC\\Pavlovian-Talia-2024-10-11\\dlc-models\\iteration-1\\PavlovianOct11-trainset95shuffle1\n"
     ]
    },
    {
     "name": "stderr",
     "output_type": "stream",
     "text": [
      "C:\\Users\\searle4490user2\\AppData\\Local\\anaconda3\\envs\\dlc\\lib\\site-packages\\tensorflow\\python\\keras\\engine\\base_layer_v1.py:1694: UserWarning: `layer.apply` is deprecated and will be removed in a future version. Please use `layer.__call__` method instead.\n",
      "  warnings.warn('`layer.apply` is deprecated and '\n"
     ]
    },
    {
     "name": "stdout",
     "output_type": "stream",
     "text": [
      "Analyzing all the videos in the directory...\n",
      "No video(s) were found. Please check your paths and/or 'video_type'.\n",
      "Analyzing all the videos in the directory...\n",
      "No video(s) were found. Please check your paths and/or 'videotype'.\n",
      "Analyzing all the videos in the directory...\n",
      "Starting analysis in: R:\\PBS\\LiPatel_Labs\\Personal_Folders\\Talia\\Behavior\\MedPC_Data\\Pavlov_pilot3\\Day10\n",
      "Using snapshot-300000 for model \\\\fsmresfiles.fsm.northwestern.edu\\fsmresfiles\\PBS\\LiPatel_Labs\\General\\DLC\\Pavlovian-Talia-2024-10-11\\dlc-models\\iteration-1\\PavlovianOct11-trainset95shuffle1\n"
     ]
    },
    {
     "name": "stderr",
     "output_type": "stream",
     "text": [
      "C:\\Users\\searle4490user2\\AppData\\Local\\anaconda3\\envs\\dlc\\lib\\site-packages\\tensorflow\\python\\keras\\engine\\base_layer_v1.py:1694: UserWarning: `layer.apply` is deprecated and will be removed in a future version. Please use `layer.__call__` method instead.\n",
      "  warnings.warn('`layer.apply` is deprecated and '\n"
     ]
    },
    {
     "name": "stdout",
     "output_type": "stream",
     "text": [
      "Analyzing all the videos in the directory...\n",
      "Starting to analyze %  R:\\PBS\\LiPatel_Labs\\Personal_Folders\\Talia\\Behavior\\MedPC_Data\\Pavlov_pilot3\\Day10\\Box8-e3v83b5-20250227T160447-173851_C2M4.mp4\n",
      "Starting to analyze %  R:\\PBS\\LiPatel_Labs\\Personal_Folders\\Talia\\Behavior\\MedPC_Data\\Pavlov_pilot3\\Day10\\Box6-e3v8367-20250227T174618-192022_C3M2.mp4\n",
      "Starting to analyze %  R:\\PBS\\LiPatel_Labs\\Personal_Folders\\Talia\\Behavior\\MedPC_Data\\Pavlov_pilot3\\Day10\\Box5-e3v832f-20250227T141801-155205_C1M1.mp4\n",
      "Starting to analyze %  R:\\PBS\\LiPatel_Labs\\Personal_Folders\\Talia\\Behavior\\MedPC_Data\\Pavlov_pilot3\\Day10\\Box8-e3v83b5-20250227T174618-192022_C3M4.mp4\n",
      "Starting to analyze %  R:\\PBS\\LiPatel_Labs\\Personal_Folders\\Talia\\Behavior\\MedPC_Data\\Pavlov_pilot3\\Day10\\Box7-e3v8349-20250227T141801-155205_C1M3.mp4\n",
      "Starting to analyze %  R:\\PBS\\LiPatel_Labs\\Personal_Folders\\Talia\\Behavior\\MedPC_Data\\Pavlov_pilot3\\Day10\\Box7-e3v8349-20250227T174618-192022_C3M3.mp4\n",
      "Starting to analyze %  R:\\PBS\\LiPatel_Labs\\Personal_Folders\\Talia\\Behavior\\MedPC_Data\\Pavlov_pilot3\\Day10\\Box7-e3v8349-20250227T160447-173851_C2M3.mp4\n",
      "Starting to analyze %  R:\\PBS\\LiPatel_Labs\\Personal_Folders\\Talia\\Behavior\\MedPC_Data\\Pavlov_pilot3\\Day10\\Box6-e3v8367-20250227T141801-155205_C1M2.mp4\n",
      "Starting to analyze %  R:\\PBS\\LiPatel_Labs\\Personal_Folders\\Talia\\Behavior\\MedPC_Data\\Pavlov_pilot3\\Day10\\Box5-e3v832f-20250227T160447-173851_C2M1.mp4\n",
      "Starting to analyze %  R:\\PBS\\LiPatel_Labs\\Personal_Folders\\Talia\\Behavior\\MedPC_Data\\Pavlov_pilot3\\Day10\\Box6-e3v8367-20250227T160447-173851_C2M2.mp4\n",
      "Starting to analyze %  R:\\PBS\\LiPatel_Labs\\Personal_Folders\\Talia\\Behavior\\MedPC_Data\\Pavlov_pilot3\\Day10\\Box5-e3v832f-20250227T174618-192022_C3M1.mp4\n",
      "Starting to analyze %  R:\\PBS\\LiPatel_Labs\\Personal_Folders\\Talia\\Behavior\\MedPC_Data\\Pavlov_pilot3\\Day10\\Box8-e3v83b5-20250227T141801-155205_C1M4.mp4\n",
      "The videos are analyzed. Now your research can truly start! \n",
      " You can create labeled videos with 'create_labeled_video'\n",
      "If the tracking is not satisfactory for some videos, consider expanding the training set. You can use the function 'extract_outlier_frames' to extract a few representative outlier frames.\n",
      "Analyzing all the videos in the directory...\n",
      "Filtering with median model R:\\PBS\\LiPatel_Labs\\Personal_Folders\\Talia\\Behavior\\MedPC_Data\\Pavlov_pilot3\\Day10\\Box8-e3v83b5-20250227T141801-155205_C1M4.mp4\n",
      "Data from Box8-e3v83b5-20250227T141801-155205_C1M4 were already filtered. Skipping...\n",
      "Filtering with median model R:\\PBS\\LiPatel_Labs\\Personal_Folders\\Talia\\Behavior\\MedPC_Data\\Pavlov_pilot3\\Day10\\Box7-e3v8349-20250227T160447-173851_C2M3.mp4\n",
      "Data from Box7-e3v8349-20250227T160447-173851_C2M3 were already filtered. Skipping...\n",
      "Filtering with median model R:\\PBS\\LiPatel_Labs\\Personal_Folders\\Talia\\Behavior\\MedPC_Data\\Pavlov_pilot3\\Day10\\Box8-e3v83b5-20250227T160447-173851_C2M4.mp4\n",
      "Data from Box8-e3v83b5-20250227T160447-173851_C2M4 were already filtered. Skipping...\n",
      "Filtering with median model R:\\PBS\\LiPatel_Labs\\Personal_Folders\\Talia\\Behavior\\MedPC_Data\\Pavlov_pilot3\\Day10\\Box6-e3v8367-20250227T174618-192022_C3M2.mp4\n",
      "Data from Box6-e3v8367-20250227T174618-192022_C3M2 were already filtered. Skipping...\n",
      "Filtering with median model R:\\PBS\\LiPatel_Labs\\Personal_Folders\\Talia\\Behavior\\MedPC_Data\\Pavlov_pilot3\\Day10\\Box5-e3v832f-20250227T160447-173851_C2M1.mp4\n",
      "Data from Box5-e3v832f-20250227T160447-173851_C2M1 were already filtered. Skipping...\n",
      "Filtering with median model R:\\PBS\\LiPatel_Labs\\Personal_Folders\\Talia\\Behavior\\MedPC_Data\\Pavlov_pilot3\\Day10\\Box7-e3v8349-20250227T174618-192022_C3M3.mp4\n",
      "Data from Box7-e3v8349-20250227T174618-192022_C3M3 were already filtered. Skipping...\n",
      "Filtering with median model R:\\PBS\\LiPatel_Labs\\Personal_Folders\\Talia\\Behavior\\MedPC_Data\\Pavlov_pilot3\\Day10\\Box7-e3v8349-20250227T141801-155205_C1M3.mp4\n",
      "Data from Box7-e3v8349-20250227T141801-155205_C1M3 were already filtered. Skipping...\n",
      "Filtering with median model R:\\PBS\\LiPatel_Labs\\Personal_Folders\\Talia\\Behavior\\MedPC_Data\\Pavlov_pilot3\\Day10\\Box6-e3v8367-20250227T160447-173851_C2M2.mp4\n",
      "Data from Box6-e3v8367-20250227T160447-173851_C2M2 were already filtered. Skipping...\n",
      "Filtering with median model R:\\PBS\\LiPatel_Labs\\Personal_Folders\\Talia\\Behavior\\MedPC_Data\\Pavlov_pilot3\\Day10\\Box8-e3v83b5-20250227T174618-192022_C3M4.mp4\n",
      "Data from Box8-e3v83b5-20250227T174618-192022_C3M4 were already filtered. Skipping...\n",
      "Filtering with median model R:\\PBS\\LiPatel_Labs\\Personal_Folders\\Talia\\Behavior\\MedPC_Data\\Pavlov_pilot3\\Day10\\Box6-e3v8367-20250227T141801-155205_C1M2.mp4\n",
      "Data from Box6-e3v8367-20250227T141801-155205_C1M2 were already filtered. Skipping...\n",
      "Filtering with median model R:\\PBS\\LiPatel_Labs\\Personal_Folders\\Talia\\Behavior\\MedPC_Data\\Pavlov_pilot3\\Day10\\Box5-e3v832f-20250227T141801-155205_C1M1.mp4\n",
      "Data from Box5-e3v832f-20250227T141801-155205_C1M1 were already filtered. Skipping...\n",
      "Filtering with median model R:\\PBS\\LiPatel_Labs\\Personal_Folders\\Talia\\Behavior\\MedPC_Data\\Pavlov_pilot3\\Day10\\Box5-e3v832f-20250227T174618-192022_C3M1.mp4\n",
      "Data from Box5-e3v832f-20250227T174618-192022_C3M1 were already filtered. Skipping...\n",
      "Analyzing all the videos in the directory...\n",
      "Starting to process video: R:\\PBS\\LiPatel_Labs\\Personal_Folders\\Talia\\Behavior\\MedPC_Data\\Pavlov_pilot3\\Day10\\Box6-e3v8367-20250227T174618-192022_C3M2.mp4\n",
      "Loading R:\\PBS\\LiPatel_Labs\\Personal_Folders\\Talia\\Behavior\\MedPC_Data\\Pavlov_pilot3\\Day10\\Box6-e3v8367-20250227T174618-192022_C3M2.mp4 and data.\n",
      "Labeled video already created. Skipping...\n",
      "Starting to process video: R:\\PBS\\LiPatel_Labs\\Personal_Folders\\Talia\\Behavior\\MedPC_Data\\Pavlov_pilot3\\Day10\\Box8-e3v83b5-20250227T174618-192022_C3M4.mp4\n",
      "Loading R:\\PBS\\LiPatel_Labs\\Personal_Folders\\Talia\\Behavior\\MedPC_Data\\Pavlov_pilot3\\Day10\\Box8-e3v83b5-20250227T174618-192022_C3M4.mp4 and data.\n",
      "Labeled video already created. Skipping...\n",
      "Starting to process video: R:\\PBS\\LiPatel_Labs\\Personal_Folders\\Talia\\Behavior\\MedPC_Data\\Pavlov_pilot3\\Day10\\Box8-e3v83b5-20250227T160447-173851_C2M4.mp4\n",
      "Loading R:\\PBS\\LiPatel_Labs\\Personal_Folders\\Talia\\Behavior\\MedPC_Data\\Pavlov_pilot3\\Day10\\Box8-e3v83b5-20250227T160447-173851_C2M4.mp4 and data.\n",
      "Labeled video already created. Skipping...\n",
      "Starting to process video: R:\\PBS\\LiPatel_Labs\\Personal_Folders\\Talia\\Behavior\\MedPC_Data\\Pavlov_pilot3\\Day10\\Box6-e3v8367-20250227T141801-155205_C1M2.mp4\n",
      "Loading R:\\PBS\\LiPatel_Labs\\Personal_Folders\\Talia\\Behavior\\MedPC_Data\\Pavlov_pilot3\\Day10\\Box6-e3v8367-20250227T141801-155205_C1M2.mp4 and data.\n",
      "Labeled video already created. Skipping...\n",
      "Starting to process video: R:\\PBS\\LiPatel_Labs\\Personal_Folders\\Talia\\Behavior\\MedPC_Data\\Pavlov_pilot3\\Day10\\Box5-e3v832f-20250227T141801-155205_C1M1.mp4\n",
      "Loading R:\\PBS\\LiPatel_Labs\\Personal_Folders\\Talia\\Behavior\\MedPC_Data\\Pavlov_pilot3\\Day10\\Box5-e3v832f-20250227T141801-155205_C1M1.mp4 and data.\n",
      "Labeled video already created. Skipping...\n",
      "Starting to process video: R:\\PBS\\LiPatel_Labs\\Personal_Folders\\Talia\\Behavior\\MedPC_Data\\Pavlov_pilot3\\Day10\\Box6-e3v8367-20250227T160447-173851_C2M2.mp4\n",
      "Loading R:\\PBS\\LiPatel_Labs\\Personal_Folders\\Talia\\Behavior\\MedPC_Data\\Pavlov_pilot3\\Day10\\Box6-e3v8367-20250227T160447-173851_C2M2.mp4 and data.\n",
      "Labeled video already created. Skipping...\n",
      "Starting to process video: R:\\PBS\\LiPatel_Labs\\Personal_Folders\\Talia\\Behavior\\MedPC_Data\\Pavlov_pilot3\\Day10\\Box5-e3v832f-20250227T160447-173851_C2M1.mp4\n",
      "Loading R:\\PBS\\LiPatel_Labs\\Personal_Folders\\Talia\\Behavior\\MedPC_Data\\Pavlov_pilot3\\Day10\\Box5-e3v832f-20250227T160447-173851_C2M1.mp4 and data.\n",
      "Labeled video already created. Skipping...\n",
      "Starting to process video: R:\\PBS\\LiPatel_Labs\\Personal_Folders\\Talia\\Behavior\\MedPC_Data\\Pavlov_pilot3\\Day10\\Box5-e3v832f-20250227T174618-192022_C3M1.mp4\n",
      "Loading R:\\PBS\\LiPatel_Labs\\Personal_Folders\\Talia\\Behavior\\MedPC_Data\\Pavlov_pilot3\\Day10\\Box5-e3v832f-20250227T174618-192022_C3M1.mp4 and data.\n",
      "Labeled video already created. Skipping...\n",
      "Starting to process video: R:\\PBS\\LiPatel_Labs\\Personal_Folders\\Talia\\Behavior\\MedPC_Data\\Pavlov_pilot3\\Day10\\Box8-e3v83b5-20250227T141801-155205_C1M4.mp4\n",
      "Loading R:\\PBS\\LiPatel_Labs\\Personal_Folders\\Talia\\Behavior\\MedPC_Data\\Pavlov_pilot3\\Day10\\Box8-e3v83b5-20250227T141801-155205_C1M4.mp4 and data.\n",
      "Labeled video already created. Skipping...\n",
      "Starting to process video: R:\\PBS\\LiPatel_Labs\\Personal_Folders\\Talia\\Behavior\\MedPC_Data\\Pavlov_pilot3\\Day10\\Box7-e3v8349-20250227T174618-192022_C3M3.mp4\n",
      "Loading R:\\PBS\\LiPatel_Labs\\Personal_Folders\\Talia\\Behavior\\MedPC_Data\\Pavlov_pilot3\\Day10\\Box7-e3v8349-20250227T174618-192022_C3M3.mp4 and data.\n"
     ]
    },
    {
     "name": "stdout",
     "output_type": "stream",
     "text": [
      "Labeled video already created. Skipping...\n",
      "Starting to process video: R:\\PBS\\LiPatel_Labs\\Personal_Folders\\Talia\\Behavior\\MedPC_Data\\Pavlov_pilot3\\Day10\\Box7-e3v8349-20250227T141801-155205_C1M3.mp4\n",
      "Loading R:\\PBS\\LiPatel_Labs\\Personal_Folders\\Talia\\Behavior\\MedPC_Data\\Pavlov_pilot3\\Day10\\Box7-e3v8349-20250227T141801-155205_C1M3.mp4 and data.\n",
      "Labeled video already created. Skipping...\n",
      "Starting to process video: R:\\PBS\\LiPatel_Labs\\Personal_Folders\\Talia\\Behavior\\MedPC_Data\\Pavlov_pilot3\\Day10\\Box7-e3v8349-20250227T160447-173851_C2M3.mp4\n",
      "Loading R:\\PBS\\LiPatel_Labs\\Personal_Folders\\Talia\\Behavior\\MedPC_Data\\Pavlov_pilot3\\Day10\\Box7-e3v8349-20250227T160447-173851_C2M3.mp4 and data.\n",
      "Labeled video already created. Skipping...\n",
      "Using snapshot-300000 for model \\\\fsmresfiles.fsm.northwestern.edu\\fsmresfiles\\PBS\\LiPatel_Labs\\General\\DLC\\Pavlovian-Talia-2024-10-11\\dlc-models\\iteration-1\\PavlovianOct11-trainset95shuffle1\n"
     ]
    },
    {
     "name": "stderr",
     "output_type": "stream",
     "text": [
      "C:\\Users\\searle4490user2\\AppData\\Local\\anaconda3\\envs\\dlc\\lib\\site-packages\\tensorflow\\python\\keras\\engine\\base_layer_v1.py:1694: UserWarning: `layer.apply` is deprecated and will be removed in a future version. Please use `layer.__call__` method instead.\n",
      "  warnings.warn('`layer.apply` is deprecated and '\n"
     ]
    },
    {
     "name": "stdout",
     "output_type": "stream",
     "text": [
      "Analyzing all the videos in the directory...\n",
      "No video(s) were found. Please check your paths and/or 'video_type'.\n",
      "Analyzing all the videos in the directory...\n",
      "No video(s) were found. Please check your paths and/or 'videotype'.\n",
      "Analyzing all the videos in the directory...\n",
      "Using snapshot-300000 for model \\\\fsmresfiles.fsm.northwestern.edu\\fsmresfiles\\PBS\\LiPatel_Labs\\General\\DLC\\Pavlovian-Talia-2024-10-11\\dlc-models\\iteration-1\\PavlovianOct11-trainset95shuffle1\n"
     ]
    },
    {
     "name": "stderr",
     "output_type": "stream",
     "text": [
      "C:\\Users\\searle4490user2\\AppData\\Local\\anaconda3\\envs\\dlc\\lib\\site-packages\\tensorflow\\python\\keras\\engine\\base_layer_v1.py:1694: UserWarning: `layer.apply` is deprecated and will be removed in a future version. Please use `layer.__call__` method instead.\n",
      "  warnings.warn('`layer.apply` is deprecated and '\n"
     ]
    },
    {
     "name": "stdout",
     "output_type": "stream",
     "text": [
      "Analyzing all the videos in the directory...\n",
      "No video(s) were found. Please check your paths and/or 'video_type'.\n",
      "Analyzing all the videos in the directory...\n",
      "No video(s) were found. Please check your paths and/or 'videotype'.\n",
      "Analyzing all the videos in the directory...\n",
      "Starting analysis in: R:\\PBS\\LiPatel_Labs\\Personal_Folders\\Talia\\Behavior\\MedPC_Data\\Pavlov_pilot3\\Day11-revday1\n",
      "Using snapshot-300000 for model \\\\fsmresfiles.fsm.northwestern.edu\\fsmresfiles\\PBS\\LiPatel_Labs\\General\\DLC\\Pavlovian-Talia-2024-10-11\\dlc-models\\iteration-1\\PavlovianOct11-trainset95shuffle1\n"
     ]
    },
    {
     "name": "stderr",
     "output_type": "stream",
     "text": [
      "C:\\Users\\searle4490user2\\AppData\\Local\\anaconda3\\envs\\dlc\\lib\\site-packages\\tensorflow\\python\\keras\\engine\\base_layer_v1.py:1694: UserWarning: `layer.apply` is deprecated and will be removed in a future version. Please use `layer.__call__` method instead.\n",
      "  warnings.warn('`layer.apply` is deprecated and '\n"
     ]
    },
    {
     "name": "stdout",
     "output_type": "stream",
     "text": [
      "Analyzing all the videos in the directory...\n",
      "Starting to analyze %  R:\\PBS\\LiPatel_Labs\\Personal_Folders\\Talia\\Behavior\\MedPC_Data\\Pavlov_pilot3\\Day11-revday1\\Box6-e3v8367-20250228T110205-123609_C1M1.mp4\n",
      "Starting to analyze %  R:\\PBS\\LiPatel_Labs\\Personal_Folders\\Talia\\Behavior\\MedPC_Data\\Pavlov_pilot3\\Day11-revday1\\Box8-e3v83b5-20250228T124817-142221_C2M4.mp4\n",
      "Starting to analyze %  R:\\PBS\\LiPatel_Labs\\Personal_Folders\\Talia\\Behavior\\MedPC_Data\\Pavlov_pilot3\\Day11-revday1\\Box5-e3v832f-20250228T124817-142221_C2M1.mp4\n",
      "Starting to analyze %  R:\\PBS\\LiPatel_Labs\\Personal_Folders\\Talia\\Behavior\\MedPC_Data\\Pavlov_pilot3\\Day11-revday1\\Box5-e3v832f-20250228T143339-160743_C3M1.mp4\n",
      "Starting to analyze %  R:\\PBS\\LiPatel_Labs\\Personal_Folders\\Talia\\Behavior\\MedPC_Data\\Pavlov_pilot3\\Day11-revday1\\Box8-e3v83b5-20250228T143339-160743_C3M4.mp4\n",
      "Starting to analyze %  R:\\PBS\\LiPatel_Labs\\Personal_Folders\\Talia\\Behavior\\MedPC_Data\\Pavlov_pilot3\\Day11-revday1\\Box8-e3v83b5-20250228T110205-123609_C1M3.mp4\n",
      "Starting to analyze %  R:\\PBS\\LiPatel_Labs\\Personal_Folders\\Talia\\Behavior\\MedPC_Data\\Pavlov_pilot3\\Day11-revday1\\Box5-e3v832f-20250228T110206-123609_C1M4.mp4\n",
      "Starting to analyze %  R:\\PBS\\LiPatel_Labs\\Personal_Folders\\Talia\\Behavior\\MedPC_Data\\Pavlov_pilot3\\Day11-revday1\\Box7-e3v8349-20250228T143339-160743_C3M3.mp4\n",
      "Starting to analyze %  R:\\PBS\\LiPatel_Labs\\Personal_Folders\\Talia\\Behavior\\MedPC_Data\\Pavlov_pilot3\\Day11-revday1\\Box7-e3v8349-20250228T124817-142221_C2M3.mp4\n",
      "Starting to analyze %  R:\\PBS\\LiPatel_Labs\\Personal_Folders\\Talia\\Behavior\\MedPC_Data\\Pavlov_pilot3\\Day11-revday1\\Box7-e3v8349-20250228T110205-123609_C1M2.mp4\n",
      "Starting to analyze %  R:\\PBS\\LiPatel_Labs\\Personal_Folders\\Talia\\Behavior\\MedPC_Data\\Pavlov_pilot3\\Day11-revday1\\Box6-e3v8367-20250228T124817-142221_C2M2.mp4\n",
      "Starting to analyze %  R:\\PBS\\LiPatel_Labs\\Personal_Folders\\Talia\\Behavior\\MedPC_Data\\Pavlov_pilot3\\Day11-revday1\\Box6-e3v8367-20250228T143339-160743_C3M2.mp4\n",
      "The videos are analyzed. Now your research can truly start! \n",
      " You can create labeled videos with 'create_labeled_video'\n",
      "If the tracking is not satisfactory for some videos, consider expanding the training set. You can use the function 'extract_outlier_frames' to extract a few representative outlier frames.\n",
      "Analyzing all the videos in the directory...\n",
      "Filtering with median model R:\\PBS\\LiPatel_Labs\\Personal_Folders\\Talia\\Behavior\\MedPC_Data\\Pavlov_pilot3\\Day11-revday1\\Box6-e3v8367-20250228T124817-142221_C2M2.mp4\n",
      "Data from Box6-e3v8367-20250228T124817-142221_C2M2 were already filtered. Skipping...\n",
      "Filtering with median model R:\\PBS\\LiPatel_Labs\\Personal_Folders\\Talia\\Behavior\\MedPC_Data\\Pavlov_pilot3\\Day11-revday1\\Box5-e3v832f-20250228T124817-142221_C2M1.mp4\n",
      "Data from Box5-e3v832f-20250228T124817-142221_C2M1 were already filtered. Skipping...\n",
      "Filtering with median model R:\\PBS\\LiPatel_Labs\\Personal_Folders\\Talia\\Behavior\\MedPC_Data\\Pavlov_pilot3\\Day11-revday1\\Box8-e3v83b5-20250228T124817-142221_C2M4.mp4\n",
      "Data from Box8-e3v83b5-20250228T124817-142221_C2M4 were already filtered. Skipping...\n",
      "Filtering with median model R:\\PBS\\LiPatel_Labs\\Personal_Folders\\Talia\\Behavior\\MedPC_Data\\Pavlov_pilot3\\Day11-revday1\\Box5-e3v832f-20250228T110206-123609_C1M4.mp4\n",
      "Data from Box5-e3v832f-20250228T110206-123609_C1M4 were already filtered. Skipping...\n",
      "Filtering with median model R:\\PBS\\LiPatel_Labs\\Personal_Folders\\Talia\\Behavior\\MedPC_Data\\Pavlov_pilot3\\Day11-revday1\\Box7-e3v8349-20250228T143339-160743_C3M3.mp4\n",
      "Data from Box7-e3v8349-20250228T143339-160743_C3M3 were already filtered. Skipping...\n",
      "Filtering with median model R:\\PBS\\LiPatel_Labs\\Personal_Folders\\Talia\\Behavior\\MedPC_Data\\Pavlov_pilot3\\Day11-revday1\\Box7-e3v8349-20250228T124817-142221_C2M3.mp4\n",
      "Data from Box7-e3v8349-20250228T124817-142221_C2M3 were already filtered. Skipping...\n",
      "Filtering with median model R:\\PBS\\LiPatel_Labs\\Personal_Folders\\Talia\\Behavior\\MedPC_Data\\Pavlov_pilot3\\Day11-revday1\\Box7-e3v8349-20250228T110205-123609_C1M2.mp4\n",
      "Data from Box7-e3v8349-20250228T110205-123609_C1M2 were already filtered. Skipping...\n",
      "Filtering with median model R:\\PBS\\LiPatel_Labs\\Personal_Folders\\Talia\\Behavior\\MedPC_Data\\Pavlov_pilot3\\Day11-revday1\\Box8-e3v83b5-20250228T143339-160743_C3M4.mp4\n",
      "Data from Box8-e3v83b5-20250228T143339-160743_C3M4 were already filtered. Skipping...\n",
      "Filtering with median model R:\\PBS\\LiPatel_Labs\\Personal_Folders\\Talia\\Behavior\\MedPC_Data\\Pavlov_pilot3\\Day11-revday1\\Box6-e3v8367-20250228T143339-160743_C3M2.mp4\n",
      "Data from Box6-e3v8367-20250228T143339-160743_C3M2 were already filtered. Skipping...\n",
      "Filtering with median model R:\\PBS\\LiPatel_Labs\\Personal_Folders\\Talia\\Behavior\\MedPC_Data\\Pavlov_pilot3\\Day11-revday1\\Box8-e3v83b5-20250228T110205-123609_C1M3.mp4\n",
      "Data from Box8-e3v83b5-20250228T110205-123609_C1M3 were already filtered. Skipping...\n",
      "Filtering with median model R:\\PBS\\LiPatel_Labs\\Personal_Folders\\Talia\\Behavior\\MedPC_Data\\Pavlov_pilot3\\Day11-revday1\\Box5-e3v832f-20250228T143339-160743_C3M1.mp4\n",
      "Data from Box5-e3v832f-20250228T143339-160743_C3M1 were already filtered. Skipping...\n",
      "Filtering with median model R:\\PBS\\LiPatel_Labs\\Personal_Folders\\Talia\\Behavior\\MedPC_Data\\Pavlov_pilot3\\Day11-revday1\\Box6-e3v8367-20250228T110205-123609_C1M1.mp4\n",
      "Data from Box6-e3v8367-20250228T110205-123609_C1M1 were already filtered. Skipping...\n",
      "Analyzing all the videos in the directory...\n",
      "Starting to process video: R:\\PBS\\LiPatel_Labs\\Personal_Folders\\Talia\\Behavior\\MedPC_Data\\Pavlov_pilot3\\Day11-revday1\\Box8-e3v83b5-20250228T124817-142221_C2M4.mp4\n",
      "Loading R:\\PBS\\LiPatel_Labs\\Personal_Folders\\Talia\\Behavior\\MedPC_Data\\Pavlov_pilot3\\Day11-revday1\\Box8-e3v83b5-20250228T124817-142221_C2M4.mp4 and data.\n",
      "Duration of video [s]: 5644.81, recorded with 30.0 fps!\n",
      "Overall # of frames: 169346 with cropped frame dimensions: 800 600\n",
      "Generating frames and creating video.\n"
     ]
    },
    {
     "name": "stderr",
     "output_type": "stream",
     "text": [
      "100%|█████████████████████████████████████████████████████████████████████████| 169346/169346 [22:31<00:00, 125.32it/s]\n"
     ]
    },
    {
     "name": "stdout",
     "output_type": "stream",
     "text": [
      "Starting to process video: R:\\PBS\\LiPatel_Labs\\Personal_Folders\\Talia\\Behavior\\MedPC_Data\\Pavlov_pilot3\\Day11-revday1\\Box8-e3v83b5-20250228T143339-160743_C3M4.mp4\n",
      "Loading R:\\PBS\\LiPatel_Labs\\Personal_Folders\\Talia\\Behavior\\MedPC_Data\\Pavlov_pilot3\\Day11-revday1\\Box8-e3v83b5-20250228T143339-160743_C3M4.mp4 and data.\n",
      "Duration of video [s]: 5644.78, recorded with 30.0 fps!\n",
      "Overall # of frames: 169345 with cropped frame dimensions: 800 600\n",
      "Generating frames and creating video.\n"
     ]
    },
    {
     "name": "stderr",
     "output_type": "stream",
     "text": [
      "100%|█████████████████████████████████████████████████████████████████████████| 169345/169345 [22:03<00:00, 127.97it/s]\n"
     ]
    },
    {
     "name": "stdout",
     "output_type": "stream",
     "text": [
      "Starting to process video: R:\\PBS\\LiPatel_Labs\\Personal_Folders\\Talia\\Behavior\\MedPC_Data\\Pavlov_pilot3\\Day11-revday1\\Box7-e3v8349-20250228T124817-142221_C2M3.mp4\n",
      "Loading R:\\PBS\\LiPatel_Labs\\Personal_Folders\\Talia\\Behavior\\MedPC_Data\\Pavlov_pilot3\\Day11-revday1\\Box7-e3v8349-20250228T124817-142221_C2M3.mp4 and data.\n",
      "Duration of video [s]: 5643.81, recorded with 30.0 fps!\n",
      "Overall # of frames: 169316 with cropped frame dimensions: 800 600\n",
      "Generating frames and creating video.\n"
     ]
    },
    {
     "name": "stderr",
     "output_type": "stream",
     "text": [
      "100%|█████████████████████████████████████████████████████████████████████████| 169316/169316 [22:13<00:00, 126.99it/s]\n"
     ]
    },
    {
     "name": "stdout",
     "output_type": "stream",
     "text": [
      "Starting to process video: R:\\PBS\\LiPatel_Labs\\Personal_Folders\\Talia\\Behavior\\MedPC_Data\\Pavlov_pilot3\\Day11-revday1\\Box5-e3v832f-20250228T143339-160743_C3M1.mp4\n",
      "Loading R:\\PBS\\LiPatel_Labs\\Personal_Folders\\Talia\\Behavior\\MedPC_Data\\Pavlov_pilot3\\Day11-revday1\\Box5-e3v832f-20250228T143339-160743_C3M1.mp4 and data.\n",
      "Duration of video [s]: 5643.78, recorded with 30.0 fps!\n",
      "Overall # of frames: 169315 with cropped frame dimensions: 800 600\n",
      "Generating frames and creating video.\n"
     ]
    },
    {
     "name": "stderr",
     "output_type": "stream",
     "text": [
      "100%|█████████████████████████████████████████████████████████████████████████| 169315/169315 [21:26<00:00, 131.59it/s]\n"
     ]
    },
    {
     "name": "stdout",
     "output_type": "stream",
     "text": [
      "Starting to process video: R:\\PBS\\LiPatel_Labs\\Personal_Folders\\Talia\\Behavior\\MedPC_Data\\Pavlov_pilot3\\Day11-revday1\\Box7-e3v8349-20250228T143339-160743_C3M3.mp4\n",
      "Loading R:\\PBS\\LiPatel_Labs\\Personal_Folders\\Talia\\Behavior\\MedPC_Data\\Pavlov_pilot3\\Day11-revday1\\Box7-e3v8349-20250228T143339-160743_C3M3.mp4 and data.\n",
      "Duration of video [s]: 5643.78, recorded with 30.0 fps!\n",
      "Overall # of frames: 169315 with cropped frame dimensions: 800 600\n",
      "Generating frames and creating video.\n"
     ]
    },
    {
     "name": "stderr",
     "output_type": "stream",
     "text": [
      "100%|█████████████████████████████████████████████████████████████████████████| 169315/169315 [22:37<00:00, 124.70it/s]\n"
     ]
    },
    {
     "name": "stdout",
     "output_type": "stream",
     "text": [
      "Starting to process video: R:\\PBS\\LiPatel_Labs\\Personal_Folders\\Talia\\Behavior\\MedPC_Data\\Pavlov_pilot3\\Day11-revday1\\Box5-e3v832f-20250228T124817-142221_C2M1.mp4\n",
      "Loading R:\\PBS\\LiPatel_Labs\\Personal_Folders\\Talia\\Behavior\\MedPC_Data\\Pavlov_pilot3\\Day11-revday1\\Box5-e3v832f-20250228T124817-142221_C2M1.mp4 and data.\n",
      "Duration of video [s]: 5643.81, recorded with 30.0 fps!\n",
      "Overall # of frames: 169316 with cropped frame dimensions: 800 600\n",
      "Generating frames and creating video.\n"
     ]
    },
    {
     "name": "stderr",
     "output_type": "stream",
     "text": [
      "100%|█████████████████████████████████████████████████████████████████████████| 169316/169316 [21:29<00:00, 131.27it/s]\n"
     ]
    },
    {
     "name": "stdout",
     "output_type": "stream",
     "text": [
      "Starting to process video: R:\\PBS\\LiPatel_Labs\\Personal_Folders\\Talia\\Behavior\\MedPC_Data\\Pavlov_pilot3\\Day11-revday1\\Box6-e3v8367-20250228T124817-142221_C2M2.mp4\n",
      "Loading R:\\PBS\\LiPatel_Labs\\Personal_Folders\\Talia\\Behavior\\MedPC_Data\\Pavlov_pilot3\\Day11-revday1\\Box6-e3v8367-20250228T124817-142221_C2M2.mp4 and data.\n",
      "Duration of video [s]: 5643.28, recorded with 30.0 fps!\n",
      "Overall # of frames: 169300 with cropped frame dimensions: 800 600\n",
      "Generating frames and creating video.\n"
     ]
    },
    {
     "name": "stderr",
     "output_type": "stream",
     "text": [
      "100%|█████████████████████████████████████████████████████████████████████████| 169300/169300 [22:12<00:00, 127.05it/s]\n"
     ]
    },
    {
     "name": "stdout",
     "output_type": "stream",
     "text": [
      "Starting to process video: R:\\PBS\\LiPatel_Labs\\Personal_Folders\\Talia\\Behavior\\MedPC_Data\\Pavlov_pilot3\\Day11-revday1\\Box7-e3v8349-20250228T110205-123609_C1M2.mp4\n",
      "Loading R:\\PBS\\LiPatel_Labs\\Personal_Folders\\Talia\\Behavior\\MedPC_Data\\Pavlov_pilot3\\Day11-revday1\\Box7-e3v8349-20250228T110205-123609_C1M2.mp4 and data.\n",
      "Duration of video [s]: 5643.81, recorded with 30.0 fps!\n",
      "Overall # of frames: 169316 with cropped frame dimensions: 800 600\n",
      "Generating frames and creating video.\n"
     ]
    },
    {
     "name": "stderr",
     "output_type": "stream",
     "text": [
      "100%|█████████████████████████████████████████████████████████████████████████| 169316/169316 [22:57<00:00, 122.95it/s]\n"
     ]
    },
    {
     "name": "stdout",
     "output_type": "stream",
     "text": [
      "Starting to process video: R:\\PBS\\LiPatel_Labs\\Personal_Folders\\Talia\\Behavior\\MedPC_Data\\Pavlov_pilot3\\Day11-revday1\\Box6-e3v8367-20250228T110205-123609_C1M1.mp4\n",
      "Loading R:\\PBS\\LiPatel_Labs\\Personal_Folders\\Talia\\Behavior\\MedPC_Data\\Pavlov_pilot3\\Day11-revday1\\Box6-e3v8367-20250228T110205-123609_C1M1.mp4 and data.\n",
      "Duration of video [s]: 5643.31, recorded with 30.0 fps!\n",
      "Overall # of frames: 169301 with cropped frame dimensions: 800 600\n",
      "Generating frames and creating video.\n"
     ]
    },
    {
     "name": "stderr",
     "output_type": "stream",
     "text": [
      "100%|█████████████████████████████████████████████████████████████████████████| 169301/169301 [23:52<00:00, 118.17it/s]\n"
     ]
    },
    {
     "name": "stdout",
     "output_type": "stream",
     "text": [
      "Starting to process video: R:\\PBS\\LiPatel_Labs\\Personal_Folders\\Talia\\Behavior\\MedPC_Data\\Pavlov_pilot3\\Day11-revday1\\Box5-e3v832f-20250228T110206-123609_C1M4.mp4\n",
      "Loading R:\\PBS\\LiPatel_Labs\\Personal_Folders\\Talia\\Behavior\\MedPC_Data\\Pavlov_pilot3\\Day11-revday1\\Box5-e3v832f-20250228T110206-123609_C1M4.mp4 and data.\n",
      "Duration of video [s]: 5642.81, recorded with 30.0 fps!\n",
      "Overall # of frames: 169286 with cropped frame dimensions: 800 600\n",
      "Generating frames and creating video.\n"
     ]
    },
    {
     "name": "stderr",
     "output_type": "stream",
     "text": [
      "100%|█████████████████████████████████████████████████████████████████████████| 169286/169286 [21:44<00:00, 129.76it/s]\n"
     ]
    },
    {
     "name": "stdout",
     "output_type": "stream",
     "text": [
      "Starting to process video: R:\\PBS\\LiPatel_Labs\\Personal_Folders\\Talia\\Behavior\\MedPC_Data\\Pavlov_pilot3\\Day11-revday1\\Box6-e3v8367-20250228T143339-160743_C3M2.mp4\n",
      "Loading R:\\PBS\\LiPatel_Labs\\Personal_Folders\\Talia\\Behavior\\MedPC_Data\\Pavlov_pilot3\\Day11-revday1\\Box6-e3v8367-20250228T143339-160743_C3M2.mp4 and data.\n",
      "Duration of video [s]: 5643.31, recorded with 30.0 fps!\n",
      "Overall # of frames: 169301 with cropped frame dimensions: 800 600\n",
      "Generating frames and creating video.\n"
     ]
    },
    {
     "name": "stderr",
     "output_type": "stream",
     "text": [
      "100%|█████████████████████████████████████████████████████████████████████████| 169301/169301 [21:14<00:00, 132.89it/s]\n"
     ]
    },
    {
     "name": "stdout",
     "output_type": "stream",
     "text": [
      "Starting to process video: R:\\PBS\\LiPatel_Labs\\Personal_Folders\\Talia\\Behavior\\MedPC_Data\\Pavlov_pilot3\\Day11-revday1\\Box8-e3v83b5-20250228T110205-123609_C1M3.mp4\n",
      "Loading R:\\PBS\\LiPatel_Labs\\Personal_Folders\\Talia\\Behavior\\MedPC_Data\\Pavlov_pilot3\\Day11-revday1\\Box8-e3v83b5-20250228T110205-123609_C1M3.mp4 and data.\n",
      "Duration of video [s]: 5644.81, recorded with 30.0 fps!\n",
      "Overall # of frames: 169346 with cropped frame dimensions: 800 600\n",
      "Generating frames and creating video.\n"
     ]
    },
    {
     "name": "stderr",
     "output_type": "stream",
     "text": [
      "100%|█████████████████████████████████████████████████████████████████████████| 169346/169346 [20:22<00:00, 138.53it/s]\n"
     ]
    },
    {
     "name": "stdout",
     "output_type": "stream",
     "text": [
      "Using snapshot-300000 for model \\\\fsmresfiles.fsm.northwestern.edu\\fsmresfiles\\PBS\\LiPatel_Labs\\General\\DLC\\Pavlovian-Talia-2024-10-11\\dlc-models\\iteration-1\\PavlovianOct11-trainset95shuffle1\n"
     ]
    },
    {
     "name": "stderr",
     "output_type": "stream",
     "text": [
      "C:\\Users\\searle4490user2\\AppData\\Local\\anaconda3\\envs\\dlc\\lib\\site-packages\\tensorflow\\python\\keras\\engine\\base_layer_v1.py:1694: UserWarning: `layer.apply` is deprecated and will be removed in a future version. Please use `layer.__call__` method instead.\n",
      "  warnings.warn('`layer.apply` is deprecated and '\n"
     ]
    },
    {
     "name": "stdout",
     "output_type": "stream",
     "text": [
      "Analyzing all the videos in the directory...\n",
      "No video(s) were found. Please check your paths and/or 'video_type'.\n",
      "Analyzing all the videos in the directory...\n",
      "No video(s) were found. Please check your paths and/or 'videotype'.\n",
      "Analyzing all the videos in the directory...\n",
      "Using snapshot-300000 for model \\\\fsmresfiles.fsm.northwestern.edu\\fsmresfiles\\PBS\\LiPatel_Labs\\General\\DLC\\Pavlovian-Talia-2024-10-11\\dlc-models\\iteration-1\\PavlovianOct11-trainset95shuffle1\n"
     ]
    },
    {
     "name": "stderr",
     "output_type": "stream",
     "text": [
      "C:\\Users\\searle4490user2\\AppData\\Local\\anaconda3\\envs\\dlc\\lib\\site-packages\\tensorflow\\python\\keras\\engine\\base_layer_v1.py:1694: UserWarning: `layer.apply` is deprecated and will be removed in a future version. Please use `layer.__call__` method instead.\n",
      "  warnings.warn('`layer.apply` is deprecated and '\n"
     ]
    },
    {
     "name": "stdout",
     "output_type": "stream",
     "text": [
      "Analyzing all the videos in the directory...\n",
      "No video(s) were found. Please check your paths and/or 'video_type'.\n",
      "Analyzing all the videos in the directory...\n",
      "No video(s) were found. Please check your paths and/or 'videotype'.\n",
      "Analyzing all the videos in the directory...\n",
      "Starting analysis in: R:\\PBS\\LiPatel_Labs\\Personal_Folders\\Talia\\Behavior\\MedPC_Data\\Pavlov_pilot3\\Day12\n",
      "Using snapshot-300000 for model \\\\fsmresfiles.fsm.northwestern.edu\\fsmresfiles\\PBS\\LiPatel_Labs\\General\\DLC\\Pavlovian-Talia-2024-10-11\\dlc-models\\iteration-1\\PavlovianOct11-trainset95shuffle1\n"
     ]
    },
    {
     "name": "stderr",
     "output_type": "stream",
     "text": [
      "C:\\Users\\searle4490user2\\AppData\\Local\\anaconda3\\envs\\dlc\\lib\\site-packages\\tensorflow\\python\\keras\\engine\\base_layer_v1.py:1694: UserWarning: `layer.apply` is deprecated and will be removed in a future version. Please use `layer.__call__` method instead.\n",
      "  warnings.warn('`layer.apply` is deprecated and '\n"
     ]
    },
    {
     "name": "stdout",
     "output_type": "stream",
     "text": [
      "Analyzing all the videos in the directory...\n",
      "Starting to analyze %  R:\\PBS\\LiPatel_Labs\\Personal_Folders\\Talia\\Behavior\\MedPC_Data\\Pavlov_pilot3\\Day12\\Box6-e3v8367-20250301T161340-1747_C3M2.mp4\n",
      "Loading  R:\\PBS\\LiPatel_Labs\\Personal_Folders\\Talia\\Behavior\\MedPC_Data\\Pavlov_pilot3\\Day12\\Box6-e3v8367-20250301T161340-1747_C3M2.mp4\n",
      "Duration of video [s]:  5644.48 , recorded with  30.0 fps!\n",
      "Overall # of frames:  169336  found with (before cropping) frame dimensions:  800 600\n",
      "Starting to extract posture\n"
     ]
    },
    {
     "name": "stderr",
     "output_type": "stream",
     "text": [
      "100%|████████████████████████████████████████████████████████████████████████| 169336/169336 [1:00:09<00:00, 46.91it/s]\n",
      "C:\\Users\\searle4490user2\\AppData\\Local\\anaconda3\\envs\\dlc\\lib\\site-packages\\deeplabcut\\utils\\auxiliaryfunctions.py:470: FutureWarning: Starting with pandas version 3.0 all arguments of to_hdf except for the argument 'path_or_buf' will be keyword-only.\n",
      "  DataMachine.to_hdf(dataname, \"df_with_missing\", format=\"table\", mode=\"w\")\n"
     ]
    },
    {
     "name": "stdout",
     "output_type": "stream",
     "text": [
      "Saving results in R:\\PBS\\LiPatel_Labs\\Personal_Folders\\Talia\\Behavior\\MedPC_Data\\Pavlov_pilot3\\Day12...\n",
      "Starting to analyze %  R:\\PBS\\LiPatel_Labs\\Personal_Folders\\Talia\\Behavior\\MedPC_Data\\Pavlov_pilot3\\Day12\\Box5-e3v832f-20250301T121934-135338_C1M1.mp4\n",
      "Loading  R:\\PBS\\LiPatel_Labs\\Personal_Folders\\Talia\\Behavior\\MedPC_Data\\Pavlov_pilot3\\Day12\\Box5-e3v832f-20250301T121934-135338_C1M1.mp4\n",
      "Duration of video [s]:  5644.78 , recorded with  30.0 fps!\n",
      "Overall # of frames:  169345  found with (before cropping) frame dimensions:  800 600\n",
      "Starting to extract posture\n"
     ]
    },
    {
     "name": "stderr",
     "output_type": "stream",
     "text": [
      "100%|████████████████████████████████████████████████████████████████████████| 169345/169345 [1:00:35<00:00, 46.58it/s]\n",
      "C:\\Users\\searle4490user2\\AppData\\Local\\anaconda3\\envs\\dlc\\lib\\site-packages\\deeplabcut\\utils\\auxiliaryfunctions.py:470: FutureWarning: Starting with pandas version 3.0 all arguments of to_hdf except for the argument 'path_or_buf' will be keyword-only.\n",
      "  DataMachine.to_hdf(dataname, \"df_with_missing\", format=\"table\", mode=\"w\")\n"
     ]
    },
    {
     "name": "stdout",
     "output_type": "stream",
     "text": [
      "Saving results in R:\\PBS\\LiPatel_Labs\\Personal_Folders\\Talia\\Behavior\\MedPC_Data\\Pavlov_pilot3\\Day12...\n",
      "Starting to analyze %  R:\\PBS\\LiPatel_Labs\\Personal_Folders\\Talia\\Behavior\\MedPC_Data\\Pavlov_pilot3\\Day12\\Box7-e3v8349-20250301T121934-135338_C1M3.mp4\n",
      "Loading  R:\\PBS\\LiPatel_Labs\\Personal_Folders\\Talia\\Behavior\\MedPC_Data\\Pavlov_pilot3\\Day12\\Box7-e3v8349-20250301T121934-135338_C1M3.mp4\n",
      "Duration of video [s]:  5644.78 , recorded with  30.0 fps!\n",
      "Overall # of frames:  169345  found with (before cropping) frame dimensions:  800 600\n",
      "Starting to extract posture\n"
     ]
    },
    {
     "name": "stderr",
     "output_type": "stream",
     "text": [
      "100%|████████████████████████████████████████████████████████████████████████| 169345/169345 [1:00:29<00:00, 46.66it/s]\n",
      "C:\\Users\\searle4490user2\\AppData\\Local\\anaconda3\\envs\\dlc\\lib\\site-packages\\deeplabcut\\utils\\auxiliaryfunctions.py:470: FutureWarning: Starting with pandas version 3.0 all arguments of to_hdf except for the argument 'path_or_buf' will be keyword-only.\n",
      "  DataMachine.to_hdf(dataname, \"df_with_missing\", format=\"table\", mode=\"w\")\n"
     ]
    },
    {
     "name": "stdout",
     "output_type": "stream",
     "text": [
      "Saving results in R:\\PBS\\LiPatel_Labs\\Personal_Folders\\Talia\\Behavior\\MedPC_Data\\Pavlov_pilot3\\Day12...\n",
      "Starting to analyze %  R:\\PBS\\LiPatel_Labs\\Personal_Folders\\Talia\\Behavior\\MedPC_Data\\Pavlov_pilot3\\Day12\\Box7-e3v8349-20250301T141631-155035_C2M3.mp4\n",
      "Loading  R:\\PBS\\LiPatel_Labs\\Personal_Folders\\Talia\\Behavior\\MedPC_Data\\Pavlov_pilot3\\Day12\\Box7-e3v8349-20250301T141631-155035_C2M3.mp4\n",
      "Duration of video [s]:  5644.81 , recorded with  30.0 fps!\n",
      "Overall # of frames:  169346  found with (before cropping) frame dimensions:  800 600\n",
      "Starting to extract posture\n"
     ]
    },
    {
     "name": "stderr",
     "output_type": "stream",
     "text": [
      "100%|██████████████████████████████████████████████████████████████████████████| 169346/169346 [58:31<00:00, 48.23it/s]\n",
      "C:\\Users\\searle4490user2\\AppData\\Local\\anaconda3\\envs\\dlc\\lib\\site-packages\\deeplabcut\\utils\\auxiliaryfunctions.py:470: FutureWarning: Starting with pandas version 3.0 all arguments of to_hdf except for the argument 'path_or_buf' will be keyword-only.\n",
      "  DataMachine.to_hdf(dataname, \"df_with_missing\", format=\"table\", mode=\"w\")\n"
     ]
    },
    {
     "name": "stdout",
     "output_type": "stream",
     "text": [
      "Saving results in R:\\PBS\\LiPatel_Labs\\Personal_Folders\\Talia\\Behavior\\MedPC_Data\\Pavlov_pilot3\\Day12...\n",
      "Starting to analyze %  R:\\PBS\\LiPatel_Labs\\Personal_Folders\\Talia\\Behavior\\MedPC_Data\\Pavlov_pilot3\\Day12\\Box8-e3v83b5-20250301T121934-135338_C1M4.mp4\n",
      "Loading  R:\\PBS\\LiPatel_Labs\\Personal_Folders\\Talia\\Behavior\\MedPC_Data\\Pavlov_pilot3\\Day12\\Box8-e3v83b5-20250301T121934-135338_C1M4.mp4\n",
      "Duration of video [s]:  5644.78 , recorded with  30.0 fps!\n",
      "Overall # of frames:  169345  found with (before cropping) frame dimensions:  800 600\n",
      "Starting to extract posture\n"
     ]
    },
    {
     "name": "stderr",
     "output_type": "stream",
     "text": [
      "100%|██████████████████████████████████████████████████████████████████████████| 169345/169345 [58:45<00:00, 48.03it/s]\n",
      "C:\\Users\\searle4490user2\\AppData\\Local\\anaconda3\\envs\\dlc\\lib\\site-packages\\deeplabcut\\utils\\auxiliaryfunctions.py:470: FutureWarning: Starting with pandas version 3.0 all arguments of to_hdf except for the argument 'path_or_buf' will be keyword-only.\n",
      "  DataMachine.to_hdf(dataname, \"df_with_missing\", format=\"table\", mode=\"w\")\n"
     ]
    },
    {
     "name": "stdout",
     "output_type": "stream",
     "text": [
      "Saving results in R:\\PBS\\LiPatel_Labs\\Personal_Folders\\Talia\\Behavior\\MedPC_Data\\Pavlov_pilot3\\Day12...\n",
      "Starting to analyze %  R:\\PBS\\LiPatel_Labs\\Personal_Folders\\Talia\\Behavior\\MedPC_Data\\Pavlov_pilot3\\Day12\\Box8-e3v83b5-20250301T161340-1747_C3M4.mp4\n",
      "Loading  R:\\PBS\\LiPatel_Labs\\Personal_Folders\\Talia\\Behavior\\MedPC_Data\\Pavlov_pilot3\\Day12\\Box8-e3v83b5-20250301T161340-1747_C3M4.mp4\n",
      "Duration of video [s]:  5644.81 , recorded with  30.0 fps!\n",
      "Overall # of frames:  169346  found with (before cropping) frame dimensions:  800 600\n",
      "Starting to extract posture\n"
     ]
    },
    {
     "name": "stderr",
     "output_type": "stream",
     "text": [
      "100%|██████████████████████████████████████████████████████████████████████████| 169346/169346 [58:29<00:00, 48.25it/s]\n",
      "C:\\Users\\searle4490user2\\AppData\\Local\\anaconda3\\envs\\dlc\\lib\\site-packages\\deeplabcut\\utils\\auxiliaryfunctions.py:470: FutureWarning: Starting with pandas version 3.0 all arguments of to_hdf except for the argument 'path_or_buf' will be keyword-only.\n",
      "  DataMachine.to_hdf(dataname, \"df_with_missing\", format=\"table\", mode=\"w\")\n"
     ]
    },
    {
     "name": "stdout",
     "output_type": "stream",
     "text": [
      "Saving results in R:\\PBS\\LiPatel_Labs\\Personal_Folders\\Talia\\Behavior\\MedPC_Data\\Pavlov_pilot3\\Day12...\n",
      "Starting to analyze %  R:\\PBS\\LiPatel_Labs\\Personal_Folders\\Talia\\Behavior\\MedPC_Data\\Pavlov_pilot3\\Day12\\Box8-e3v83b5-20250301T141631-155035_C2M4.mp4\n",
      "Loading  R:\\PBS\\LiPatel_Labs\\Personal_Folders\\Talia\\Behavior\\MedPC_Data\\Pavlov_pilot3\\Day12\\Box8-e3v83b5-20250301T141631-155035_C2M4.mp4\n",
      "Duration of video [s]:  5644.81 , recorded with  30.0 fps!\n",
      "Overall # of frames:  169346  found with (before cropping) frame dimensions:  800 600\n",
      "Starting to extract posture\n"
     ]
    },
    {
     "name": "stderr",
     "output_type": "stream",
     "text": [
      "100%|██████████████████████████████████████████████████████████████████████████| 169346/169346 [58:58<00:00, 47.85it/s]\n",
      "C:\\Users\\searle4490user2\\AppData\\Local\\anaconda3\\envs\\dlc\\lib\\site-packages\\deeplabcut\\utils\\auxiliaryfunctions.py:470: FutureWarning: Starting with pandas version 3.0 all arguments of to_hdf except for the argument 'path_or_buf' will be keyword-only.\n",
      "  DataMachine.to_hdf(dataname, \"df_with_missing\", format=\"table\", mode=\"w\")\n"
     ]
    },
    {
     "name": "stdout",
     "output_type": "stream",
     "text": [
      "Saving results in R:\\PBS\\LiPatel_Labs\\Personal_Folders\\Talia\\Behavior\\MedPC_Data\\Pavlov_pilot3\\Day12...\n",
      "Starting to analyze %  R:\\PBS\\LiPatel_Labs\\Personal_Folders\\Talia\\Behavior\\MedPC_Data\\Pavlov_pilot3\\Day12\\Box5-e3v832f-20250301T141631-155035_C2M1.mp4\n",
      "Loading  R:\\PBS\\LiPatel_Labs\\Personal_Folders\\Talia\\Behavior\\MedPC_Data\\Pavlov_pilot3\\Day12\\Box5-e3v832f-20250301T141631-155035_C2M1.mp4\n",
      "Duration of video [s]:  5644.81 , recorded with  30.0 fps!\n",
      "Overall # of frames:  169346  found with (before cropping) frame dimensions:  800 600\n",
      "Starting to extract posture\n"
     ]
    },
    {
     "name": "stderr",
     "output_type": "stream",
     "text": [
      "100%|██████████████████████████████████████████████████████████████████████████| 169346/169346 [58:43<00:00, 48.06it/s]\n",
      "C:\\Users\\searle4490user2\\AppData\\Local\\anaconda3\\envs\\dlc\\lib\\site-packages\\deeplabcut\\utils\\auxiliaryfunctions.py:470: FutureWarning: Starting with pandas version 3.0 all arguments of to_hdf except for the argument 'path_or_buf' will be keyword-only.\n",
      "  DataMachine.to_hdf(dataname, \"df_with_missing\", format=\"table\", mode=\"w\")\n"
     ]
    },
    {
     "name": "stdout",
     "output_type": "stream",
     "text": [
      "Saving results in R:\\PBS\\LiPatel_Labs\\Personal_Folders\\Talia\\Behavior\\MedPC_Data\\Pavlov_pilot3\\Day12...\n",
      "Starting to analyze %  R:\\PBS\\LiPatel_Labs\\Personal_Folders\\Talia\\Behavior\\MedPC_Data\\Pavlov_pilot3\\Day12\\Box6-e3v8367-20250301T141631-155035_C2M2.mp4\n",
      "Loading  R:\\PBS\\LiPatel_Labs\\Personal_Folders\\Talia\\Behavior\\MedPC_Data\\Pavlov_pilot3\\Day12\\Box6-e3v8367-20250301T141631-155035_C2M2.mp4\n",
      "Duration of video [s]:  5644.34 , recorded with  30.0 fps!\n",
      "Overall # of frames:  169332  found with (before cropping) frame dimensions:  800 600\n",
      "Starting to extract posture\n"
     ]
    },
    {
     "name": "stderr",
     "output_type": "stream",
     "text": [
      "100%|██████████████████████████████████████████████████████████████████████████| 169332/169332 [58:42<00:00, 48.07it/s]\n",
      "C:\\Users\\searle4490user2\\AppData\\Local\\anaconda3\\envs\\dlc\\lib\\site-packages\\deeplabcut\\utils\\auxiliaryfunctions.py:470: FutureWarning: Starting with pandas version 3.0 all arguments of to_hdf except for the argument 'path_or_buf' will be keyword-only.\n",
      "  DataMachine.to_hdf(dataname, \"df_with_missing\", format=\"table\", mode=\"w\")\n"
     ]
    },
    {
     "name": "stdout",
     "output_type": "stream",
     "text": [
      "Saving results in R:\\PBS\\LiPatel_Labs\\Personal_Folders\\Talia\\Behavior\\MedPC_Data\\Pavlov_pilot3\\Day12...\n",
      "Starting to analyze %  R:\\PBS\\LiPatel_Labs\\Personal_Folders\\Talia\\Behavior\\MedPC_Data\\Pavlov_pilot3\\Day12\\Box7-e3v8349-20250301T161340-1747_C3M3.mp4\n",
      "Loading  R:\\PBS\\LiPatel_Labs\\Personal_Folders\\Talia\\Behavior\\MedPC_Data\\Pavlov_pilot3\\Day12\\Box7-e3v8349-20250301T161340-1747_C3M3.mp4\n",
      "Duration of video [s]:  5644.81 , recorded with  30.0 fps!\n",
      "Overall # of frames:  169346  found with (before cropping) frame dimensions:  800 600\n",
      "Starting to extract posture\n"
     ]
    },
    {
     "name": "stderr",
     "output_type": "stream",
     "text": [
      "100%|██████████████████████████████████████████████████████████████████████████| 169346/169346 [58:49<00:00, 47.99it/s]\n",
      "C:\\Users\\searle4490user2\\AppData\\Local\\anaconda3\\envs\\dlc\\lib\\site-packages\\deeplabcut\\utils\\auxiliaryfunctions.py:470: FutureWarning: Starting with pandas version 3.0 all arguments of to_hdf except for the argument 'path_or_buf' will be keyword-only.\n",
      "  DataMachine.to_hdf(dataname, \"df_with_missing\", format=\"table\", mode=\"w\")\n"
     ]
    },
    {
     "name": "stdout",
     "output_type": "stream",
     "text": [
      "Saving results in R:\\PBS\\LiPatel_Labs\\Personal_Folders\\Talia\\Behavior\\MedPC_Data\\Pavlov_pilot3\\Day12...\n",
      "Starting to analyze %  R:\\PBS\\LiPatel_Labs\\Personal_Folders\\Talia\\Behavior\\MedPC_Data\\Pavlov_pilot3\\Day12\\Box5-e3v832f-20250301T161340-1747_C3M1.mp4\n",
      "Loading  R:\\PBS\\LiPatel_Labs\\Personal_Folders\\Talia\\Behavior\\MedPC_Data\\Pavlov_pilot3\\Day12\\Box5-e3v832f-20250301T161340-1747_C3M1.mp4\n",
      "Duration of video [s]:  5644.81 , recorded with  30.0 fps!\n",
      "Overall # of frames:  169346  found with (before cropping) frame dimensions:  800 600\n",
      "Starting to extract posture\n"
     ]
    },
    {
     "name": "stderr",
     "output_type": "stream",
     "text": [
      "100%|██████████████████████████████████████████████████████████████████████████| 169346/169346 [58:29<00:00, 48.26it/s]\n",
      "C:\\Users\\searle4490user2\\AppData\\Local\\anaconda3\\envs\\dlc\\lib\\site-packages\\deeplabcut\\utils\\auxiliaryfunctions.py:470: FutureWarning: Starting with pandas version 3.0 all arguments of to_hdf except for the argument 'path_or_buf' will be keyword-only.\n",
      "  DataMachine.to_hdf(dataname, \"df_with_missing\", format=\"table\", mode=\"w\")\n"
     ]
    },
    {
     "name": "stdout",
     "output_type": "stream",
     "text": [
      "Saving results in R:\\PBS\\LiPatel_Labs\\Personal_Folders\\Talia\\Behavior\\MedPC_Data\\Pavlov_pilot3\\Day12...\n",
      "Starting to analyze %  R:\\PBS\\LiPatel_Labs\\Personal_Folders\\Talia\\Behavior\\MedPC_Data\\Pavlov_pilot3\\Day12\\Box6-e3v8367-20250301T121934-135338_C1M2.mp4\n",
      "Loading  R:\\PBS\\LiPatel_Labs\\Personal_Folders\\Talia\\Behavior\\MedPC_Data\\Pavlov_pilot3\\Day12\\Box6-e3v8367-20250301T121934-135338_C1M2.mp4\n",
      "Duration of video [s]:  5644.31 , recorded with  30.0 fps!\n",
      "Overall # of frames:  169331  found with (before cropping) frame dimensions:  800 600\n",
      "Starting to extract posture\n"
     ]
    },
    {
     "name": "stderr",
     "output_type": "stream",
     "text": [
      "100%|██████████████████████████████████████████████████████████████████████████| 169331/169331 [58:43<00:00, 48.06it/s]\n",
      "C:\\Users\\searle4490user2\\AppData\\Local\\anaconda3\\envs\\dlc\\lib\\site-packages\\deeplabcut\\utils\\auxiliaryfunctions.py:470: FutureWarning: Starting with pandas version 3.0 all arguments of to_hdf except for the argument 'path_or_buf' will be keyword-only.\n",
      "  DataMachine.to_hdf(dataname, \"df_with_missing\", format=\"table\", mode=\"w\")\n"
     ]
    },
    {
     "name": "stdout",
     "output_type": "stream",
     "text": [
      "Saving results in R:\\PBS\\LiPatel_Labs\\Personal_Folders\\Talia\\Behavior\\MedPC_Data\\Pavlov_pilot3\\Day12...\n",
      "The videos are analyzed. Now your research can truly start! \n",
      " You can create labeled videos with 'create_labeled_video'\n",
      "If the tracking is not satisfactory for some videos, consider expanding the training set. You can use the function 'extract_outlier_frames' to extract a few representative outlier frames.\n",
      "Analyzing all the videos in the directory...\n",
      "Filtering with median model R:\\PBS\\LiPatel_Labs\\Personal_Folders\\Talia\\Behavior\\MedPC_Data\\Pavlov_pilot3\\Day12\\Box8-e3v83b5-20250301T121934-135338_C1M4.mp4\n"
     ]
    },
    {
     "name": "stderr",
     "output_type": "stream",
     "text": [
      "C:\\Users\\searle4490user2\\AppData\\Local\\anaconda3\\envs\\dlc\\lib\\site-packages\\deeplabcut\\post_processing\\filtering.py:298: FutureWarning: Starting with pandas version 3.0 all arguments of to_hdf except for the argument 'path_or_buf' will be keyword-only.\n",
      "  data.to_hdf(outdataname, \"df_with_missing\", format=\"table\", mode=\"w\")\n"
     ]
    },
    {
     "name": "stdout",
     "output_type": "stream",
     "text": [
      "Saving filtered csv poses!\n",
      "Filtering with median model R:\\PBS\\LiPatel_Labs\\Personal_Folders\\Talia\\Behavior\\MedPC_Data\\Pavlov_pilot3\\Day12\\Box7-e3v8349-20250301T161340-1747_C3M3.mp4\n"
     ]
    },
    {
     "name": "stderr",
     "output_type": "stream",
     "text": [
      "C:\\Users\\searle4490user2\\AppData\\Local\\anaconda3\\envs\\dlc\\lib\\site-packages\\deeplabcut\\post_processing\\filtering.py:298: FutureWarning: Starting with pandas version 3.0 all arguments of to_hdf except for the argument 'path_or_buf' will be keyword-only.\n",
      "  data.to_hdf(outdataname, \"df_with_missing\", format=\"table\", mode=\"w\")\n"
     ]
    },
    {
     "name": "stdout",
     "output_type": "stream",
     "text": [
      "Saving filtered csv poses!\n",
      "Filtering with median model R:\\PBS\\LiPatel_Labs\\Personal_Folders\\Talia\\Behavior\\MedPC_Data\\Pavlov_pilot3\\Day12\\Box6-e3v8367-20250301T121934-135338_C1M2.mp4\n"
     ]
    },
    {
     "name": "stderr",
     "output_type": "stream",
     "text": [
      "C:\\Users\\searle4490user2\\AppData\\Local\\anaconda3\\envs\\dlc\\lib\\site-packages\\deeplabcut\\post_processing\\filtering.py:298: FutureWarning: Starting with pandas version 3.0 all arguments of to_hdf except for the argument 'path_or_buf' will be keyword-only.\n",
      "  data.to_hdf(outdataname, \"df_with_missing\", format=\"table\", mode=\"w\")\n"
     ]
    },
    {
     "name": "stdout",
     "output_type": "stream",
     "text": [
      "Saving filtered csv poses!\n",
      "Filtering with median model R:\\PBS\\LiPatel_Labs\\Personal_Folders\\Talia\\Behavior\\MedPC_Data\\Pavlov_pilot3\\Day12\\Box5-e3v832f-20250301T161340-1747_C3M1.mp4\n"
     ]
    },
    {
     "name": "stderr",
     "output_type": "stream",
     "text": [
      "C:\\Users\\searle4490user2\\AppData\\Local\\anaconda3\\envs\\dlc\\lib\\site-packages\\deeplabcut\\post_processing\\filtering.py:298: FutureWarning: Starting with pandas version 3.0 all arguments of to_hdf except for the argument 'path_or_buf' will be keyword-only.\n",
      "  data.to_hdf(outdataname, \"df_with_missing\", format=\"table\", mode=\"w\")\n"
     ]
    },
    {
     "name": "stdout",
     "output_type": "stream",
     "text": [
      "Saving filtered csv poses!\n",
      "Filtering with median model R:\\PBS\\LiPatel_Labs\\Personal_Folders\\Talia\\Behavior\\MedPC_Data\\Pavlov_pilot3\\Day12\\Box7-e3v8349-20250301T121934-135338_C1M3.mp4\n"
     ]
    },
    {
     "name": "stderr",
     "output_type": "stream",
     "text": [
      "C:\\Users\\searle4490user2\\AppData\\Local\\anaconda3\\envs\\dlc\\lib\\site-packages\\deeplabcut\\post_processing\\filtering.py:298: FutureWarning: Starting with pandas version 3.0 all arguments of to_hdf except for the argument 'path_or_buf' will be keyword-only.\n",
      "  data.to_hdf(outdataname, \"df_with_missing\", format=\"table\", mode=\"w\")\n"
     ]
    },
    {
     "name": "stdout",
     "output_type": "stream",
     "text": [
      "Saving filtered csv poses!\n",
      "Filtering with median model R:\\PBS\\LiPatel_Labs\\Personal_Folders\\Talia\\Behavior\\MedPC_Data\\Pavlov_pilot3\\Day12\\Box5-e3v832f-20250301T141631-155035_C2M1.mp4\n"
     ]
    },
    {
     "name": "stderr",
     "output_type": "stream",
     "text": [
      "C:\\Users\\searle4490user2\\AppData\\Local\\anaconda3\\envs\\dlc\\lib\\site-packages\\deeplabcut\\post_processing\\filtering.py:298: FutureWarning: Starting with pandas version 3.0 all arguments of to_hdf except for the argument 'path_or_buf' will be keyword-only.\n",
      "  data.to_hdf(outdataname, \"df_with_missing\", format=\"table\", mode=\"w\")\n"
     ]
    },
    {
     "name": "stdout",
     "output_type": "stream",
     "text": [
      "Saving filtered csv poses!\n",
      "Filtering with median model R:\\PBS\\LiPatel_Labs\\Personal_Folders\\Talia\\Behavior\\MedPC_Data\\Pavlov_pilot3\\Day12\\Box8-e3v83b5-20250301T141631-155035_C2M4.mp4\n"
     ]
    },
    {
     "name": "stderr",
     "output_type": "stream",
     "text": [
      "C:\\Users\\searle4490user2\\AppData\\Local\\anaconda3\\envs\\dlc\\lib\\site-packages\\deeplabcut\\post_processing\\filtering.py:298: FutureWarning: Starting with pandas version 3.0 all arguments of to_hdf except for the argument 'path_or_buf' will be keyword-only.\n",
      "  data.to_hdf(outdataname, \"df_with_missing\", format=\"table\", mode=\"w\")\n"
     ]
    },
    {
     "name": "stdout",
     "output_type": "stream",
     "text": [
      "Saving filtered csv poses!\n",
      "Filtering with median model R:\\PBS\\LiPatel_Labs\\Personal_Folders\\Talia\\Behavior\\MedPC_Data\\Pavlov_pilot3\\Day12\\Box6-e3v8367-20250301T161340-1747_C3M2.mp4\n"
     ]
    },
    {
     "name": "stderr",
     "output_type": "stream",
     "text": [
      "C:\\Users\\searle4490user2\\AppData\\Local\\anaconda3\\envs\\dlc\\lib\\site-packages\\deeplabcut\\post_processing\\filtering.py:298: FutureWarning: Starting with pandas version 3.0 all arguments of to_hdf except for the argument 'path_or_buf' will be keyword-only.\n",
      "  data.to_hdf(outdataname, \"df_with_missing\", format=\"table\", mode=\"w\")\n"
     ]
    },
    {
     "name": "stdout",
     "output_type": "stream",
     "text": [
      "Saving filtered csv poses!\n",
      "Filtering with median model R:\\PBS\\LiPatel_Labs\\Personal_Folders\\Talia\\Behavior\\MedPC_Data\\Pavlov_pilot3\\Day12\\Box6-e3v8367-20250301T141631-155035_C2M2.mp4\n"
     ]
    },
    {
     "name": "stderr",
     "output_type": "stream",
     "text": [
      "C:\\Users\\searle4490user2\\AppData\\Local\\anaconda3\\envs\\dlc\\lib\\site-packages\\deeplabcut\\post_processing\\filtering.py:298: FutureWarning: Starting with pandas version 3.0 all arguments of to_hdf except for the argument 'path_or_buf' will be keyword-only.\n",
      "  data.to_hdf(outdataname, \"df_with_missing\", format=\"table\", mode=\"w\")\n"
     ]
    },
    {
     "name": "stdout",
     "output_type": "stream",
     "text": [
      "Saving filtered csv poses!\n",
      "Filtering with median model R:\\PBS\\LiPatel_Labs\\Personal_Folders\\Talia\\Behavior\\MedPC_Data\\Pavlov_pilot3\\Day12\\Box5-e3v832f-20250301T121934-135338_C1M1.mp4\n"
     ]
    },
    {
     "name": "stderr",
     "output_type": "stream",
     "text": [
      "C:\\Users\\searle4490user2\\AppData\\Local\\anaconda3\\envs\\dlc\\lib\\site-packages\\deeplabcut\\post_processing\\filtering.py:298: FutureWarning: Starting with pandas version 3.0 all arguments of to_hdf except for the argument 'path_or_buf' will be keyword-only.\n",
      "  data.to_hdf(outdataname, \"df_with_missing\", format=\"table\", mode=\"w\")\n"
     ]
    },
    {
     "name": "stdout",
     "output_type": "stream",
     "text": [
      "Saving filtered csv poses!\n",
      "Filtering with median model R:\\PBS\\LiPatel_Labs\\Personal_Folders\\Talia\\Behavior\\MedPC_Data\\Pavlov_pilot3\\Day12\\Box7-e3v8349-20250301T141631-155035_C2M3.mp4\n"
     ]
    },
    {
     "name": "stderr",
     "output_type": "stream",
     "text": [
      "C:\\Users\\searle4490user2\\AppData\\Local\\anaconda3\\envs\\dlc\\lib\\site-packages\\deeplabcut\\post_processing\\filtering.py:298: FutureWarning: Starting with pandas version 3.0 all arguments of to_hdf except for the argument 'path_or_buf' will be keyword-only.\n",
      "  data.to_hdf(outdataname, \"df_with_missing\", format=\"table\", mode=\"w\")\n"
     ]
    },
    {
     "name": "stdout",
     "output_type": "stream",
     "text": [
      "Saving filtered csv poses!\n",
      "Filtering with median model R:\\PBS\\LiPatel_Labs\\Personal_Folders\\Talia\\Behavior\\MedPC_Data\\Pavlov_pilot3\\Day12\\Box8-e3v83b5-20250301T161340-1747_C3M4.mp4\n"
     ]
    },
    {
     "name": "stderr",
     "output_type": "stream",
     "text": [
      "C:\\Users\\searle4490user2\\AppData\\Local\\anaconda3\\envs\\dlc\\lib\\site-packages\\deeplabcut\\post_processing\\filtering.py:298: FutureWarning: Starting with pandas version 3.0 all arguments of to_hdf except for the argument 'path_or_buf' will be keyword-only.\n",
      "  data.to_hdf(outdataname, \"df_with_missing\", format=\"table\", mode=\"w\")\n"
     ]
    },
    {
     "name": "stdout",
     "output_type": "stream",
     "text": [
      "Saving filtered csv poses!\n",
      "Analyzing all the videos in the directory...\n",
      "Starting to process video: R:\\PBS\\LiPatel_Labs\\Personal_Folders\\Talia\\Behavior\\MedPC_Data\\Pavlov_pilot3\\Day12\\Box6-e3v8367-20250301T161340-1747_C3M2.mp4\n",
      "Loading R:\\PBS\\LiPatel_Labs\\Personal_Folders\\Talia\\Behavior\\MedPC_Data\\Pavlov_pilot3\\Day12\\Box6-e3v8367-20250301T161340-1747_C3M2.mp4 and data.\n",
      "Duration of video [s]: 5644.48, recorded with 30.0 fps!\n",
      "Overall # of frames: 169336 with cropped frame dimensions: 800 600\n",
      "Generating frames and creating video.\n"
     ]
    },
    {
     "name": "stderr",
     "output_type": "stream",
     "text": [
      "100%|█████████████████████████████████████████████████████████████████████████| 169336/169336 [21:47<00:00, 129.53it/s]\n"
     ]
    },
    {
     "name": "stdout",
     "output_type": "stream",
     "text": [
      "Starting to process video: R:\\PBS\\LiPatel_Labs\\Personal_Folders\\Talia\\Behavior\\MedPC_Data\\Pavlov_pilot3\\Day12\\Box8-e3v83b5-20250301T141631-155035_C2M4.mp4\n",
      "Loading R:\\PBS\\LiPatel_Labs\\Personal_Folders\\Talia\\Behavior\\MedPC_Data\\Pavlov_pilot3\\Day12\\Box8-e3v83b5-20250301T141631-155035_C2M4.mp4 and data.\n",
      "Duration of video [s]: 5644.81, recorded with 30.0 fps!\n",
      "Overall # of frames: 169346 with cropped frame dimensions: 800 600\n",
      "Generating frames and creating video.\n"
     ]
    },
    {
     "name": "stderr",
     "output_type": "stream",
     "text": [
      "100%|█████████████████████████████████████████████████████████████████████████| 169346/169346 [22:04<00:00, 127.81it/s]\n"
     ]
    },
    {
     "name": "stdout",
     "output_type": "stream",
     "text": [
      "Starting to process video: R:\\PBS\\LiPatel_Labs\\Personal_Folders\\Talia\\Behavior\\MedPC_Data\\Pavlov_pilot3\\Day12\\Box5-e3v832f-20250301T121934-135338_C1M1.mp4\n",
      "Loading R:\\PBS\\LiPatel_Labs\\Personal_Folders\\Talia\\Behavior\\MedPC_Data\\Pavlov_pilot3\\Day12\\Box5-e3v832f-20250301T121934-135338_C1M1.mp4 and data.\n",
      "Duration of video [s]: 5644.78, recorded with 30.0 fps!\n",
      "Overall # of frames: 169345 with cropped frame dimensions: 800 600\n",
      "Generating frames and creating video.\n"
     ]
    },
    {
     "name": "stderr",
     "output_type": "stream",
     "text": [
      "100%|█████████████████████████████████████████████████████████████████████████| 169345/169345 [21:27<00:00, 131.50it/s]\n"
     ]
    },
    {
     "name": "stdout",
     "output_type": "stream",
     "text": [
      "Starting to process video: R:\\PBS\\LiPatel_Labs\\Personal_Folders\\Talia\\Behavior\\MedPC_Data\\Pavlov_pilot3\\Day12\\Box7-e3v8349-20250301T141631-155035_C2M3.mp4\n",
      "Loading R:\\PBS\\LiPatel_Labs\\Personal_Folders\\Talia\\Behavior\\MedPC_Data\\Pavlov_pilot3\\Day12\\Box7-e3v8349-20250301T141631-155035_C2M3.mp4 and data.\n",
      "Duration of video [s]: 5644.81, recorded with 30.0 fps!\n",
      "Overall # of frames: 169346 with cropped frame dimensions: 800 600\n",
      "Generating frames and creating video.\n"
     ]
    },
    {
     "name": "stderr",
     "output_type": "stream",
     "text": [
      "100%|█████████████████████████████████████████████████████████████████████████| 169346/169346 [22:50<00:00, 123.55it/s]\n"
     ]
    },
    {
     "name": "stdout",
     "output_type": "stream",
     "text": [
      "Starting to process video: R:\\PBS\\LiPatel_Labs\\Personal_Folders\\Talia\\Behavior\\MedPC_Data\\Pavlov_pilot3\\Day12\\Box6-e3v8367-20250301T141631-155035_C2M2.mp4\n",
      "Loading R:\\PBS\\LiPatel_Labs\\Personal_Folders\\Talia\\Behavior\\MedPC_Data\\Pavlov_pilot3\\Day12\\Box6-e3v8367-20250301T141631-155035_C2M2.mp4 and data.\n",
      "Duration of video [s]: 5644.34, recorded with 30.0 fps!\n",
      "Overall # of frames: 169332 with cropped frame dimensions: 800 600\n",
      "Generating frames and creating video.\n"
     ]
    },
    {
     "name": "stderr",
     "output_type": "stream",
     "text": [
      "100%|█████████████████████████████████████████████████████████████████████████| 169332/169332 [21:36<00:00, 130.61it/s]\n"
     ]
    },
    {
     "name": "stdout",
     "output_type": "stream",
     "text": [
      "Starting to process video: R:\\PBS\\LiPatel_Labs\\Personal_Folders\\Talia\\Behavior\\MedPC_Data\\Pavlov_pilot3\\Day12\\Box7-e3v8349-20250301T161340-1747_C3M3.mp4\n",
      "Loading R:\\PBS\\LiPatel_Labs\\Personal_Folders\\Talia\\Behavior\\MedPC_Data\\Pavlov_pilot3\\Day12\\Box7-e3v8349-20250301T161340-1747_C3M3.mp4 and data.\n",
      "Duration of video [s]: 5644.81, recorded with 30.0 fps!\n",
      "Overall # of frames: 169346 with cropped frame dimensions: 800 600\n",
      "Generating frames and creating video.\n"
     ]
    },
    {
     "name": "stderr",
     "output_type": "stream",
     "text": [
      "100%|█████████████████████████████████████████████████████████████████████████| 169346/169346 [22:28<00:00, 125.59it/s]\n"
     ]
    },
    {
     "name": "stdout",
     "output_type": "stream",
     "text": [
      "Starting to process video: R:\\PBS\\LiPatel_Labs\\Personal_Folders\\Talia\\Behavior\\MedPC_Data\\Pavlov_pilot3\\Day12\\Box7-e3v8349-20250301T121934-135338_C1M3.mp4\n",
      "Loading R:\\PBS\\LiPatel_Labs\\Personal_Folders\\Talia\\Behavior\\MedPC_Data\\Pavlov_pilot3\\Day12\\Box7-e3v8349-20250301T121934-135338_C1M3.mp4 and data.\n",
      "Duration of video [s]: 5644.78, recorded with 30.0 fps!\n",
      "Overall # of frames: 169345 with cropped frame dimensions: 800 600\n",
      "Generating frames and creating video.\n"
     ]
    },
    {
     "name": "stderr",
     "output_type": "stream",
     "text": [
      "100%|█████████████████████████████████████████████████████████████████████████| 169345/169345 [22:43<00:00, 124.16it/s]\n"
     ]
    },
    {
     "name": "stdout",
     "output_type": "stream",
     "text": [
      "Starting to process video: R:\\PBS\\LiPatel_Labs\\Personal_Folders\\Talia\\Behavior\\MedPC_Data\\Pavlov_pilot3\\Day12\\Box5-e3v832f-20250301T161340-1747_C3M1.mp4\n",
      "Loading R:\\PBS\\LiPatel_Labs\\Personal_Folders\\Talia\\Behavior\\MedPC_Data\\Pavlov_pilot3\\Day12\\Box5-e3v832f-20250301T161340-1747_C3M1.mp4 and data.\n",
      "Duration of video [s]: 5644.81, recorded with 30.0 fps!\n",
      "Overall # of frames: 169346 with cropped frame dimensions: 800 600\n",
      "Generating frames and creating video.\n"
     ]
    },
    {
     "name": "stderr",
     "output_type": "stream",
     "text": [
      "100%|█████████████████████████████████████████████████████████████████████████| 169346/169346 [21:01<00:00, 134.23it/s]\n"
     ]
    },
    {
     "name": "stdout",
     "output_type": "stream",
     "text": [
      "Starting to process video: R:\\PBS\\LiPatel_Labs\\Personal_Folders\\Talia\\Behavior\\MedPC_Data\\Pavlov_pilot3\\Day12\\Box8-e3v83b5-20250301T161340-1747_C3M4.mp4\n",
      "Loading R:\\PBS\\LiPatel_Labs\\Personal_Folders\\Talia\\Behavior\\MedPC_Data\\Pavlov_pilot3\\Day12\\Box8-e3v83b5-20250301T161340-1747_C3M4.mp4 and data.\n",
      "Duration of video [s]: 5644.81, recorded with 30.0 fps!\n",
      "Overall # of frames: 169346 with cropped frame dimensions: 800 600\n",
      "Generating frames and creating video.\n"
     ]
    },
    {
     "name": "stderr",
     "output_type": "stream",
     "text": [
      "100%|█████████████████████████████████████████████████████████████████████████| 169346/169346 [21:31<00:00, 131.09it/s]\n"
     ]
    },
    {
     "name": "stdout",
     "output_type": "stream",
     "text": [
      "Starting to process video: R:\\PBS\\LiPatel_Labs\\Personal_Folders\\Talia\\Behavior\\MedPC_Data\\Pavlov_pilot3\\Day12\\Box8-e3v83b5-20250301T121934-135338_C1M4.mp4\n",
      "Loading R:\\PBS\\LiPatel_Labs\\Personal_Folders\\Talia\\Behavior\\MedPC_Data\\Pavlov_pilot3\\Day12\\Box8-e3v83b5-20250301T121934-135338_C1M4.mp4 and data.\n",
      "Duration of video [s]: 5644.78, recorded with 30.0 fps!\n",
      "Overall # of frames: 169345 with cropped frame dimensions: 800 600\n",
      "Generating frames and creating video.\n"
     ]
    },
    {
     "name": "stderr",
     "output_type": "stream",
     "text": [
      "100%|█████████████████████████████████████████████████████████████████████████| 169345/169345 [21:36<00:00, 130.62it/s]\n"
     ]
    },
    {
     "name": "stdout",
     "output_type": "stream",
     "text": [
      "Starting to process video: R:\\PBS\\LiPatel_Labs\\Personal_Folders\\Talia\\Behavior\\MedPC_Data\\Pavlov_pilot3\\Day12\\Box6-e3v8367-20250301T121934-135338_C1M2.mp4\n",
      "Loading R:\\PBS\\LiPatel_Labs\\Personal_Folders\\Talia\\Behavior\\MedPC_Data\\Pavlov_pilot3\\Day12\\Box6-e3v8367-20250301T121934-135338_C1M2.mp4 and data.\n",
      "Duration of video [s]: 5644.31, recorded with 30.0 fps!\n",
      "Overall # of frames: 169331 with cropped frame dimensions: 800 600\n",
      "Generating frames and creating video.\n"
     ]
    },
    {
     "name": "stderr",
     "output_type": "stream",
     "text": [
      "100%|█████████████████████████████████████████████████████████████████████████| 169331/169331 [22:06<00:00, 127.64it/s]\n"
     ]
    },
    {
     "name": "stdout",
     "output_type": "stream",
     "text": [
      "Starting to process video: R:\\PBS\\LiPatel_Labs\\Personal_Folders\\Talia\\Behavior\\MedPC_Data\\Pavlov_pilot3\\Day12\\Box5-e3v832f-20250301T141631-155035_C2M1.mp4\n",
      "Loading R:\\PBS\\LiPatel_Labs\\Personal_Folders\\Talia\\Behavior\\MedPC_Data\\Pavlov_pilot3\\Day12\\Box5-e3v832f-20250301T141631-155035_C2M1.mp4 and data.\n",
      "Duration of video [s]: 5644.81, recorded with 30.0 fps!\n",
      "Overall # of frames: 169346 with cropped frame dimensions: 800 600\n",
      "Generating frames and creating video.\n"
     ]
    },
    {
     "name": "stderr",
     "output_type": "stream",
     "text": [
      "100%|█████████████████████████████████████████████████████████████████████████| 169346/169346 [21:31<00:00, 131.13it/s]\n"
     ]
    },
    {
     "name": "stdout",
     "output_type": "stream",
     "text": [
      "Using snapshot-300000 for model \\\\fsmresfiles.fsm.northwestern.edu\\fsmresfiles\\PBS\\LiPatel_Labs\\General\\DLC\\Pavlovian-Talia-2024-10-11\\dlc-models\\iteration-1\\PavlovianOct11-trainset95shuffle1\n"
     ]
    },
    {
     "name": "stderr",
     "output_type": "stream",
     "text": [
      "C:\\Users\\searle4490user2\\AppData\\Local\\anaconda3\\envs\\dlc\\lib\\site-packages\\tensorflow\\python\\keras\\engine\\base_layer_v1.py:1694: UserWarning: `layer.apply` is deprecated and will be removed in a future version. Please use `layer.__call__` method instead.\n",
      "  warnings.warn('`layer.apply` is deprecated and '\n"
     ]
    },
    {
     "name": "stdout",
     "output_type": "stream",
     "text": [
      "Analyzing all the videos in the directory...\n",
      "No video(s) were found. Please check your paths and/or 'video_type'.\n",
      "Analyzing all the videos in the directory...\n",
      "No video(s) were found. Please check your paths and/or 'videotype'.\n",
      "Analyzing all the videos in the directory...\n",
      "Using snapshot-300000 for model \\\\fsmresfiles.fsm.northwestern.edu\\fsmresfiles\\PBS\\LiPatel_Labs\\General\\DLC\\Pavlovian-Talia-2024-10-11\\dlc-models\\iteration-1\\PavlovianOct11-trainset95shuffle1\n"
     ]
    },
    {
     "name": "stderr",
     "output_type": "stream",
     "text": [
      "C:\\Users\\searle4490user2\\AppData\\Local\\anaconda3\\envs\\dlc\\lib\\site-packages\\tensorflow\\python\\keras\\engine\\base_layer_v1.py:1694: UserWarning: `layer.apply` is deprecated and will be removed in a future version. Please use `layer.__call__` method instead.\n",
      "  warnings.warn('`layer.apply` is deprecated and '\n"
     ]
    },
    {
     "name": "stdout",
     "output_type": "stream",
     "text": [
      "Analyzing all the videos in the directory...\n",
      "No video(s) were found. Please check your paths and/or 'video_type'.\n",
      "Analyzing all the videos in the directory...\n",
      "No video(s) were found. Please check your paths and/or 'videotype'.\n",
      "Analyzing all the videos in the directory...\n",
      "Starting analysis in: R:\\PBS\\LiPatel_Labs\\Personal_Folders\\Talia\\Behavior\\MedPC_Data\\Pavlov_pilot3\\Day13\n",
      "Using snapshot-300000 for model \\\\fsmresfiles.fsm.northwestern.edu\\fsmresfiles\\PBS\\LiPatel_Labs\\General\\DLC\\Pavlovian-Talia-2024-10-11\\dlc-models\\iteration-1\\PavlovianOct11-trainset95shuffle1\n"
     ]
    },
    {
     "name": "stderr",
     "output_type": "stream",
     "text": [
      "C:\\Users\\searle4490user2\\AppData\\Local\\anaconda3\\envs\\dlc\\lib\\site-packages\\tensorflow\\python\\keras\\engine\\base_layer_v1.py:1694: UserWarning: `layer.apply` is deprecated and will be removed in a future version. Please use `layer.__call__` method instead.\n",
      "  warnings.warn('`layer.apply` is deprecated and '\n"
     ]
    },
    {
     "name": "stdout",
     "output_type": "stream",
     "text": [
      "Analyzing all the videos in the directory...\n",
      "Starting to analyze %  R:\\PBS\\LiPatel_Labs\\Personal_Folders\\Talia\\Behavior\\MedPC_Data\\Pavlov_pilot3\\Day13\\Box8-e3v83b5-20250302T152116-165520_C2M4.mp4\n",
      "Loading  R:\\PBS\\LiPatel_Labs\\Personal_Folders\\Talia\\Behavior\\MedPC_Data\\Pavlov_pilot3\\Day13\\Box8-e3v83b5-20250302T152116-165520_C2M4.mp4\n",
      "Duration of video [s]:  5644.81 , recorded with  30.0 fps!\n",
      "Overall # of frames:  169346  found with (before cropping) frame dimensions:  800 600\n",
      "Starting to extract posture\n"
     ]
    },
    {
     "name": "stderr",
     "output_type": "stream",
     "text": [
      "100%|██████████████████████████████████████████████████████████████████████████| 169346/169346 [58:52<00:00, 47.94it/s]\n",
      "C:\\Users\\searle4490user2\\AppData\\Local\\anaconda3\\envs\\dlc\\lib\\site-packages\\deeplabcut\\utils\\auxiliaryfunctions.py:470: FutureWarning: Starting with pandas version 3.0 all arguments of to_hdf except for the argument 'path_or_buf' will be keyword-only.\n",
      "  DataMachine.to_hdf(dataname, \"df_with_missing\", format=\"table\", mode=\"w\")\n"
     ]
    },
    {
     "name": "stdout",
     "output_type": "stream",
     "text": [
      "Saving results in R:\\PBS\\LiPatel_Labs\\Personal_Folders\\Talia\\Behavior\\MedPC_Data\\Pavlov_pilot3\\Day13...\n",
      "Starting to analyze %  R:\\PBS\\LiPatel_Labs\\Personal_Folders\\Talia\\Behavior\\MedPC_Data\\Pavlov_pilot3\\Day13\\Box6-e3v8367-20250302T171503-184907_C3M2.mp4\n",
      "Loading  R:\\PBS\\LiPatel_Labs\\Personal_Folders\\Talia\\Behavior\\MedPC_Data\\Pavlov_pilot3\\Day13\\Box6-e3v8367-20250302T171503-184907_C3M2.mp4\n",
      "Duration of video [s]:  5643.24 , recorded with  30.0 fps!\n",
      "Overall # of frames:  169299  found with (before cropping) frame dimensions:  800 600\n",
      "Starting to extract posture\n"
     ]
    },
    {
     "name": "stderr",
     "output_type": "stream",
     "text": [
      "100%|██████████████████████████████████████████████████████████████████████████| 169299/169299 [58:40<00:00, 48.09it/s]\n",
      "C:\\Users\\searle4490user2\\AppData\\Local\\anaconda3\\envs\\dlc\\lib\\site-packages\\deeplabcut\\utils\\auxiliaryfunctions.py:470: FutureWarning: Starting with pandas version 3.0 all arguments of to_hdf except for the argument 'path_or_buf' will be keyword-only.\n",
      "  DataMachine.to_hdf(dataname, \"df_with_missing\", format=\"table\", mode=\"w\")\n"
     ]
    },
    {
     "name": "stdout",
     "output_type": "stream",
     "text": [
      "Saving results in R:\\PBS\\LiPatel_Labs\\Personal_Folders\\Talia\\Behavior\\MedPC_Data\\Pavlov_pilot3\\Day13...\n",
      "Starting to analyze %  R:\\PBS\\LiPatel_Labs\\Personal_Folders\\Talia\\Behavior\\MedPC_Data\\Pavlov_pilot3\\Day13\\Box8-e3v83b5-20250302T133331-150735_C1M4.mp4\n",
      "Loading  R:\\PBS\\LiPatel_Labs\\Personal_Folders\\Talia\\Behavior\\MedPC_Data\\Pavlov_pilot3\\Day13\\Box8-e3v83b5-20250302T133331-150735_C1M4.mp4\n",
      "Duration of video [s]:  5644.81 , recorded with  30.0 fps!\n",
      "Overall # of frames:  169346  found with (before cropping) frame dimensions:  800 600\n",
      "Starting to extract posture\n"
     ]
    },
    {
     "name": "stderr",
     "output_type": "stream",
     "text": [
      "100%|████████████████████████████████████████████████████████████████████████| 169346/169346 [1:00:51<00:00, 46.37it/s]\n",
      "C:\\Users\\searle4490user2\\AppData\\Local\\anaconda3\\envs\\dlc\\lib\\site-packages\\deeplabcut\\utils\\auxiliaryfunctions.py:470: FutureWarning: Starting with pandas version 3.0 all arguments of to_hdf except for the argument 'path_or_buf' will be keyword-only.\n",
      "  DataMachine.to_hdf(dataname, \"df_with_missing\", format=\"table\", mode=\"w\")\n"
     ]
    },
    {
     "name": "stdout",
     "output_type": "stream",
     "text": [
      "Saving results in R:\\PBS\\LiPatel_Labs\\Personal_Folders\\Talia\\Behavior\\MedPC_Data\\Pavlov_pilot3\\Day13...\n",
      "Starting to analyze %  R:\\PBS\\LiPatel_Labs\\Personal_Folders\\Talia\\Behavior\\MedPC_Data\\Pavlov_pilot3\\Day13\\Box6-e3v8367-20250302T152116-165520_C2M2.mp4\n",
      "Loading  R:\\PBS\\LiPatel_Labs\\Personal_Folders\\Talia\\Behavior\\MedPC_Data\\Pavlov_pilot3\\Day13\\Box6-e3v8367-20250302T152116-165520_C2M2.mp4\n",
      "Duration of video [s]:  5643.24 , recorded with  30.0 fps!\n",
      "Overall # of frames:  169299  found with (before cropping) frame dimensions:  800 600\n",
      "Starting to extract posture\n"
     ]
    },
    {
     "name": "stderr",
     "output_type": "stream",
     "text": [
      "100%|████████████████████████████████████████████████████████████████████████| 169299/169299 [1:00:10<00:00, 46.89it/s]\n",
      "C:\\Users\\searle4490user2\\AppData\\Local\\anaconda3\\envs\\dlc\\lib\\site-packages\\deeplabcut\\utils\\auxiliaryfunctions.py:470: FutureWarning: Starting with pandas version 3.0 all arguments of to_hdf except for the argument 'path_or_buf' will be keyword-only.\n",
      "  DataMachine.to_hdf(dataname, \"df_with_missing\", format=\"table\", mode=\"w\")\n"
     ]
    },
    {
     "name": "stdout",
     "output_type": "stream",
     "text": [
      "Saving results in R:\\PBS\\LiPatel_Labs\\Personal_Folders\\Talia\\Behavior\\MedPC_Data\\Pavlov_pilot3\\Day13...\n",
      "Starting to analyze %  R:\\PBS\\LiPatel_Labs\\Personal_Folders\\Talia\\Behavior\\MedPC_Data\\Pavlov_pilot3\\Day13\\Box6-e3v8367-20250302T133331-150735_C1M2.mp4\n",
      "Loading  R:\\PBS\\LiPatel_Labs\\Personal_Folders\\Talia\\Behavior\\MedPC_Data\\Pavlov_pilot3\\Day13\\Box6-e3v8367-20250302T133331-150735_C1M2.mp4\n",
      "Duration of video [s]:  5643.31 , recorded with  30.0 fps!\n",
      "Overall # of frames:  169301  found with (before cropping) frame dimensions:  800 600\n",
      "Starting to extract posture\n"
     ]
    },
    {
     "name": "stderr",
     "output_type": "stream",
     "text": [
      "100%|████████████████████████████████████████████████████████████████████████| 169301/169301 [1:00:06<00:00, 46.94it/s]\n",
      "C:\\Users\\searle4490user2\\AppData\\Local\\anaconda3\\envs\\dlc\\lib\\site-packages\\deeplabcut\\utils\\auxiliaryfunctions.py:470: FutureWarning: Starting with pandas version 3.0 all arguments of to_hdf except for the argument 'path_or_buf' will be keyword-only.\n",
      "  DataMachine.to_hdf(dataname, \"df_with_missing\", format=\"table\", mode=\"w\")\n"
     ]
    },
    {
     "name": "stdout",
     "output_type": "stream",
     "text": [
      "Saving results in R:\\PBS\\LiPatel_Labs\\Personal_Folders\\Talia\\Behavior\\MedPC_Data\\Pavlov_pilot3\\Day13...\n",
      "Starting to analyze %  R:\\PBS\\LiPatel_Labs\\Personal_Folders\\Talia\\Behavior\\MedPC_Data\\Pavlov_pilot3\\Day13\\Box5-e3v832f-20250302T133331-150735_C1M1.mp4\n",
      "Loading  R:\\PBS\\LiPatel_Labs\\Personal_Folders\\Talia\\Behavior\\MedPC_Data\\Pavlov_pilot3\\Day13\\Box5-e3v832f-20250302T133331-150735_C1M1.mp4\n",
      "Duration of video [s]:  5643.81 , recorded with  30.0 fps!\n",
      "Overall # of frames:  169316  found with (before cropping) frame dimensions:  800 600\n",
      "Starting to extract posture\n"
     ]
    },
    {
     "name": "stderr",
     "output_type": "stream",
     "text": [
      " 99%|███████████████████████████████████████████████████████████████████████▍| 167896/169316 [1:00:11<00:28, 49.50it/s]"
     ]
    }
   ],
   "source": [
    "import os\n",
    "import deeplabcut\n",
    "\n",
    "def getsubfolders(folder):\n",
    "    \"\"\"Returns a list of subfolders in a given folder.\"\"\"\n",
    "    return [os.path.join(folder, p) for p in os.listdir(folder) if os.path.isdir(os.path.join(folder, p))]\n",
    "\n",
    "def contains_videos(folder, video_extensions=('.mp4', '.m4v', '.mpg')):\n",
    "    \"\"\"Checks if a folder contains video files.\"\"\"\n",
    "    return any(f.endswith(video_extensions) for f in os.listdir(folder))\n",
    "\n",
    "def process_videos(directory, config, shuffle, video_types):\n",
    "    \"\"\"Runs DeepLabCut analysis, filtering, and labeled video creation in a given directory.\"\"\"\n",
    "    print(\"Starting analysis in:\", directory)\n",
    "    \n",
    "    for vtype in video_types:\n",
    "        # Analyze videos\n",
    "        deeplabcut.analyze_videos(config, [directory], shuffle=shuffle, videotype=vtype)\n",
    "\n",
    "        # Filter predictions   or filtertype='arima'  with a SARIMAX model\n",
    "        deeplabcut.filterpredictions(config, [directory], videotype=vtype)\n",
    "\n",
    "        # Create labeled videos\n",
    "        deeplabcut.create_labeled_video(config, [directory], videotype=vtype, filtered=True)\n",
    "\n",
    "def main(basepath, config, shuffle=1):\n",
    "    \"\"\"Determines if basepath contains videos directly or subfolders and processes accordingly.\"\"\"\n",
    "    \n",
    "    video_types = ['.mp4', '.m4v', '.mpg']\n",
    "    \n",
    "    if contains_videos(basepath, tuple(video_types)):\n",
    "        # If there are video files directly in basepath, process them\n",
    "        process_videos(basepath, config, shuffle, video_types)\n",
    "    else:\n",
    "        # Otherwise, process each subfolder\n",
    "        subfolders = getsubfolders(basepath)\n",
    "        for subfolder in subfolders:\n",
    "            if contains_videos(subfolder, tuple(video_types)):  # Ensure the subfolder has videos\n",
    "                process_videos(subfolder, config, shuffle, video_types)\n",
    "\n",
    "# Path to the DLC configuration file and data directory\n",
    "config = r'R:\\PBS\\LiPatel_Labs\\General\\DLC\\Pavlovian-Talia-2024-10-11\\config.yaml'\n",
    "basepath = r'R:\\PBS\\LiPatel_Labs\\Personal_Folders\\Talia\\Behavior\\MedPC_Data\\Pavlov_pilot3'\n",
    "\n",
    "# Run the script\n",
    "main(basepath, config)\n"
   ]
  },
  {
   "cell_type": "code",
   "execution_count": null,
   "id": "4763bcc2",
   "metadata": {},
   "outputs": [],
   "source": []
  }
 ],
 "metadata": {
  "kernelspec": {
   "display_name": "Python [conda env:dlc] *",
   "language": "python",
   "name": "conda-env-dlc-py"
  },
  "language_info": {
   "codemirror_mode": {
    "name": "ipython",
    "version": 3
   },
   "file_extension": ".py",
   "mimetype": "text/x-python",
   "name": "python",
   "nbconvert_exporter": "python",
   "pygments_lexer": "ipython3",
   "version": "3.10.16"
  }
 },
 "nbformat": 4,
 "nbformat_minor": 5
}
